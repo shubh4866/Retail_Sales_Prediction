{
 "cells": [
  {
   "cell_type": "markdown",
   "metadata": {
    "id": "tOGC-qoyhJeX"
   },
   "source": [
    "#<font color='red'> <b><u> Project Title : Sales Prediction : Predicting sales of a major store chain Rossmann</u></b>\n",
    "\n",
    "#<font color='green'> Github Link :"
   ]
  },
  {
   "cell_type": "markdown",
   "metadata": {
    "id": "Y06xIdG26kRF"
   },
   "source": [
    "## <font color='Blue'><b> Problem Description </b>\n",
    "\n",
    "### Rossmann operates over 3,000 drug stores in 7 European countries. Currently, Rossmann store managers are tasked with predicting their daily sales for up to six weeks in advance. Store sales are influenced by many factors, including promotions, competition, school and state holidays, seasonality, and locality. With thousands of individual managers predicting sales based on their unique circumstances, the accuracy of results can be quite varied.\n",
    "\n",
    "### You are provided with historical sales data for 1,115 Rossmann stores. The task is to forecast the \"Sales\" column for the test set. Note that some stores in the dataset were temporarily closed for refurbishment."
   ]
  },
  {
   "cell_type": "markdown",
   "metadata": {
    "id": "WWeU1f9bwqQq"
   },
   "source": [
    "## <font color='red'> <b> Data Description </b>\n",
    "\n",
    "### <font color='Blue'> <b>Rossmann Stores Data.csv </b> - <font color='black'>historical data including Sales\n",
    "### <font color='Blue'> <b>store.csv </b> - <font color='black'>supplemental information about the stores\n",
    "\n",
    "\n",
    "### <font color='red'> <b><u>Data fields</u></b>\n",
    "### Most of the fields are self-explanatory. The following are descriptions for those that aren't.\n",
    "\n",
    "* #### Id - an Id that represents a (Store, Date) duple within the test set\n",
    "* #### Store - a unique Id for each store\n",
    "* #### Sales - the turnover for any given day (this is what you are predicting)\n",
    "* #### Customers - the number of customers on a given day\n",
    "* #### Open - an indicator for whether the store was open: 0 = closed, 1 = open\n",
    "* #### StateHoliday - indicates a state holiday. Normally all stores, with few exceptions, are closed on state holidays. Note that all schools are closed on public holidays and weekends. a = public holiday, b = Easter holiday, c = Christmas, 0 = None\n",
    "* #### SchoolHoliday - indicates if the (Store, Date) was affected by the closure of public schools\n",
    "* #### StoreType - differentiates between 4 different store models: a, b, c, d\n",
    "* #### Assortment - describes an assortment level: a = basic, b = extra, c = extended\n",
    "* #### CompetitionDistance - distance in meters to the nearest competitor store\n",
    "* #### CompetitionOpenSince[Month/Year] - gives the approximate year and month of the time the nearest competitor was opened\n",
    "* #### Promo - indicates whether a store is running a promo on that day\n",
    "* #### Promo2 - Promo2 is a continuing and consecutive promotion for some stores: 0 = store is not participating, 1 = store is participating\n",
    "* #### Promo2Since[Year/Week] - describes the year and calendar week when the store started participating in Promo2\n",
    "* #### PromoInterval - describes the consecutive intervals Promo2 is started, naming the months the promotion is started anew. E.g. \"Feb,May,Aug,Nov\" means each round starts in February, May, August, November of any given year for that store"
   ]
  },
  {
   "cell_type": "markdown",
   "metadata": {
    "id": "InAK97MKd5dv"
   },
   "source": [
    "#**<font color='red'> Loading Libraries & Data**"
   ]
  },
  {
   "cell_type": "code",
   "execution_count": 1,
   "metadata": {
    "executionInfo": {
     "elapsed": 1883,
     "status": "ok",
     "timestamp": 1684350605011,
     "user": {
      "displayName": "SHUBHASHIS SINGH",
      "userId": "08258130953267299309"
     },
     "user_tz": -330
    },
    "id": "dByMsuzT8Tnw"
   },
   "outputs": [],
   "source": [
    "# importing libraries\n",
    "\n",
    "import pandas as pd\n",
    "import numpy as np\n",
    "import matplotlib.pyplot as plt\n",
    "import seaborn as sns\n",
    "import datetime\n",
    "import missingno as msno\n",
    "import matplotlib\n",
    "import matplotlib.pylab as pylab\n",
    "\n",
    "%matplotlib inline\n",
    "matplotlib.style.use('ggplot')\n",
    "sns.set_style('white')\n",
    "pylab.rcParams['figure.figsize'] = 8,6\n",
    "\n",
    "import math\n",
    "import statsmodels.api as sm\n",
    "from sklearn.model_selection import train_test_split\n",
    "from sklearn.linear_model import LinearRegression\n",
    "from sklearn.metrics import mean_squared_error\n",
    "from math import sqrt\n",
    "from sklearn.linear_model import BayesianRidge\n",
    "from sklearn.linear_model import LassoLars\n",
    "from sklearn.tree import DecisionTreeRegressor\n",
    "from sklearn.ensemble import RandomForestRegressor\n",
    "from sklearn.neighbors import KNeighborsRegressor\n",
    "from sklearn.model_selection import RandomizedSearchCV\n",
    "from sklearn.metrics import mean_squared_error\n",
    "from sklearn.metrics import r2_score\n",
    "from sklearn.preprocessing import MinMaxScaler\n",
    "from sklearn.linear_model import ElasticNet\n",
    "\n",
    "import warnings\n",
    "warnings.filterwarnings('ignore')\n",
    "\n",
    "import seaborn as sns\n"
   ]
  },
  {
   "cell_type": "code",
   "execution_count": 2,
   "metadata": {
    "colab": {
     "base_uri": "https://localhost:8080/"
    },
    "executionInfo": {
     "elapsed": 3946,
     "status": "ok",
     "timestamp": 1684350608954,
     "user": {
      "displayName": "SHUBHASHIS SINGH",
      "userId": "08258130953267299309"
     },
     "user_tz": -330
    },
    "id": "Y9sCv5M7L3Xr",
    "outputId": "666e15aa-9a80-43b3-f73a-57477f5afb06"
   },
   "outputs": [
    {
     "name": "stdout",
     "output_type": "stream",
     "text": [
      "Drive already mounted at /content/drive; to attempt to forcibly remount, call drive.mount(\"/content/drive\", force_remount=True).\n"
     ]
    }
   ],
   "source": [
    "# mounting drive\n",
    "from google.colab import drive\n",
    "drive.mount('/content/drive')"
   ]
  },
  {
   "cell_type": "code",
   "execution_count": 3,
   "metadata": {
    "executionInfo": {
     "elapsed": 3758,
     "status": "ok",
     "timestamp": 1684350612709,
     "user": {
      "displayName": "SHUBHASHIS SINGH",
      "userId": "08258130953267299309"
     },
     "user_tz": -330
    },
    "id": "A33KLzO0LN1t"
   },
   "outputs": [],
   "source": [
    "# Loading Rossman Dataset\n",
    "rossman_dataset = pd.read_csv('/content/drive/MyDrive/Project_New/Retail_Sales_Prediction/Rossmann Stores Data.csv',low_memory= False)"
   ]
  },
  {
   "cell_type": "code",
   "execution_count": 4,
   "metadata": {
    "executionInfo": {
     "elapsed": 12,
     "status": "ok",
     "timestamp": 1684350612711,
     "user": {
      "displayName": "SHUBHASHIS SINGH",
      "userId": "08258130953267299309"
     },
     "user_tz": -330
    },
    "id": "_DA4m29QQ7KC"
   },
   "outputs": [],
   "source": [
    "# Loading Store Dataset\n",
    "store_dataset = pd.read_csv('/content/drive/MyDrive/Project_New/Retail_Sales_Prediction/store.csv',low_memory= False)"
   ]
  },
  {
   "cell_type": "markdown",
   "metadata": {
    "id": "ReyE89RMSUAV"
   },
   "source": [
    "## <font color='red'>**Analysing the Rossman Dataset**"
   ]
  },
  {
   "cell_type": "code",
   "execution_count": 5,
   "metadata": {
    "colab": {
     "base_uri": "https://localhost:8080/",
     "height": 206
    },
    "executionInfo": {
     "elapsed": 12,
     "status": "ok",
     "timestamp": 1684350612711,
     "user": {
      "displayName": "SHUBHASHIS SINGH",
      "userId": "08258130953267299309"
     },
     "user_tz": -330
    },
    "id": "0AZ_iHb6LUzn",
    "outputId": "fad4f3f9-017f-4496-d1e1-52703f699b13"
   },
   "outputs": [
    {
     "data": {
      "text/html": [
       "\n",
       "  <div id=\"df-36db8c77-1961-4ede-b43f-3b15543495d7\">\n",
       "    <div class=\"colab-df-container\">\n",
       "      <div>\n",
       "<style scoped>\n",
       "    .dataframe tbody tr th:only-of-type {\n",
       "        vertical-align: middle;\n",
       "    }\n",
       "\n",
       "    .dataframe tbody tr th {\n",
       "        vertical-align: top;\n",
       "    }\n",
       "\n",
       "    .dataframe thead th {\n",
       "        text-align: right;\n",
       "    }\n",
       "</style>\n",
       "<table border=\"1\" class=\"dataframe\">\n",
       "  <thead>\n",
       "    <tr style=\"text-align: right;\">\n",
       "      <th></th>\n",
       "      <th>Store</th>\n",
       "      <th>DayOfWeek</th>\n",
       "      <th>Date</th>\n",
       "      <th>Sales</th>\n",
       "      <th>Customers</th>\n",
       "      <th>Open</th>\n",
       "      <th>Promo</th>\n",
       "      <th>StateHoliday</th>\n",
       "      <th>SchoolHoliday</th>\n",
       "    </tr>\n",
       "  </thead>\n",
       "  <tbody>\n",
       "    <tr>\n",
       "      <th>0</th>\n",
       "      <td>1</td>\n",
       "      <td>5</td>\n",
       "      <td>2015-07-31</td>\n",
       "      <td>5263</td>\n",
       "      <td>555</td>\n",
       "      <td>1</td>\n",
       "      <td>1</td>\n",
       "      <td>0</td>\n",
       "      <td>1</td>\n",
       "    </tr>\n",
       "    <tr>\n",
       "      <th>1</th>\n",
       "      <td>2</td>\n",
       "      <td>5</td>\n",
       "      <td>2015-07-31</td>\n",
       "      <td>6064</td>\n",
       "      <td>625</td>\n",
       "      <td>1</td>\n",
       "      <td>1</td>\n",
       "      <td>0</td>\n",
       "      <td>1</td>\n",
       "    </tr>\n",
       "    <tr>\n",
       "      <th>2</th>\n",
       "      <td>3</td>\n",
       "      <td>5</td>\n",
       "      <td>2015-07-31</td>\n",
       "      <td>8314</td>\n",
       "      <td>821</td>\n",
       "      <td>1</td>\n",
       "      <td>1</td>\n",
       "      <td>0</td>\n",
       "      <td>1</td>\n",
       "    </tr>\n",
       "    <tr>\n",
       "      <th>3</th>\n",
       "      <td>4</td>\n",
       "      <td>5</td>\n",
       "      <td>2015-07-31</td>\n",
       "      <td>13995</td>\n",
       "      <td>1498</td>\n",
       "      <td>1</td>\n",
       "      <td>1</td>\n",
       "      <td>0</td>\n",
       "      <td>1</td>\n",
       "    </tr>\n",
       "    <tr>\n",
       "      <th>4</th>\n",
       "      <td>5</td>\n",
       "      <td>5</td>\n",
       "      <td>2015-07-31</td>\n",
       "      <td>4822</td>\n",
       "      <td>559</td>\n",
       "      <td>1</td>\n",
       "      <td>1</td>\n",
       "      <td>0</td>\n",
       "      <td>1</td>\n",
       "    </tr>\n",
       "  </tbody>\n",
       "</table>\n",
       "</div>\n",
       "      <button class=\"colab-df-convert\" onclick=\"convertToInteractive('df-36db8c77-1961-4ede-b43f-3b15543495d7')\"\n",
       "              title=\"Convert this dataframe to an interactive table.\"\n",
       "              style=\"display:none;\">\n",
       "        \n",
       "  <svg xmlns=\"http://www.w3.org/2000/svg\" height=\"24px\"viewBox=\"0 0 24 24\"\n",
       "       width=\"24px\">\n",
       "    <path d=\"M0 0h24v24H0V0z\" fill=\"none\"/>\n",
       "    <path d=\"M18.56 5.44l.94 2.06.94-2.06 2.06-.94-2.06-.94-.94-2.06-.94 2.06-2.06.94zm-11 1L8.5 8.5l.94-2.06 2.06-.94-2.06-.94L8.5 2.5l-.94 2.06-2.06.94zm10 10l.94 2.06.94-2.06 2.06-.94-2.06-.94-.94-2.06-.94 2.06-2.06.94z\"/><path d=\"M17.41 7.96l-1.37-1.37c-.4-.4-.92-.59-1.43-.59-.52 0-1.04.2-1.43.59L10.3 9.45l-7.72 7.72c-.78.78-.78 2.05 0 2.83L4 21.41c.39.39.9.59 1.41.59.51 0 1.02-.2 1.41-.59l7.78-7.78 2.81-2.81c.8-.78.8-2.07 0-2.86zM5.41 20L4 18.59l7.72-7.72 1.47 1.35L5.41 20z\"/>\n",
       "  </svg>\n",
       "      </button>\n",
       "      \n",
       "  <style>\n",
       "    .colab-df-container {\n",
       "      display:flex;\n",
       "      flex-wrap:wrap;\n",
       "      gap: 12px;\n",
       "    }\n",
       "\n",
       "    .colab-df-convert {\n",
       "      background-color: #E8F0FE;\n",
       "      border: none;\n",
       "      border-radius: 50%;\n",
       "      cursor: pointer;\n",
       "      display: none;\n",
       "      fill: #1967D2;\n",
       "      height: 32px;\n",
       "      padding: 0 0 0 0;\n",
       "      width: 32px;\n",
       "    }\n",
       "\n",
       "    .colab-df-convert:hover {\n",
       "      background-color: #E2EBFA;\n",
       "      box-shadow: 0px 1px 2px rgba(60, 64, 67, 0.3), 0px 1px 3px 1px rgba(60, 64, 67, 0.15);\n",
       "      fill: #174EA6;\n",
       "    }\n",
       "\n",
       "    [theme=dark] .colab-df-convert {\n",
       "      background-color: #3B4455;\n",
       "      fill: #D2E3FC;\n",
       "    }\n",
       "\n",
       "    [theme=dark] .colab-df-convert:hover {\n",
       "      background-color: #434B5C;\n",
       "      box-shadow: 0px 1px 3px 1px rgba(0, 0, 0, 0.15);\n",
       "      filter: drop-shadow(0px 1px 2px rgba(0, 0, 0, 0.3));\n",
       "      fill: #FFFFFF;\n",
       "    }\n",
       "  </style>\n",
       "\n",
       "      <script>\n",
       "        const buttonEl =\n",
       "          document.querySelector('#df-36db8c77-1961-4ede-b43f-3b15543495d7 button.colab-df-convert');\n",
       "        buttonEl.style.display =\n",
       "          google.colab.kernel.accessAllowed ? 'block' : 'none';\n",
       "\n",
       "        async function convertToInteractive(key) {\n",
       "          const element = document.querySelector('#df-36db8c77-1961-4ede-b43f-3b15543495d7');\n",
       "          const dataTable =\n",
       "            await google.colab.kernel.invokeFunction('convertToInteractive',\n",
       "                                                     [key], {});\n",
       "          if (!dataTable) return;\n",
       "\n",
       "          const docLinkHtml = 'Like what you see? Visit the ' +\n",
       "            '<a target=\"_blank\" href=https://colab.research.google.com/notebooks/data_table.ipynb>data table notebook</a>'\n",
       "            + ' to learn more about interactive tables.';\n",
       "          element.innerHTML = '';\n",
       "          dataTable['output_type'] = 'display_data';\n",
       "          await google.colab.output.renderOutput(dataTable, element);\n",
       "          const docLink = document.createElement('div');\n",
       "          docLink.innerHTML = docLinkHtml;\n",
       "          element.appendChild(docLink);\n",
       "        }\n",
       "      </script>\n",
       "    </div>\n",
       "  </div>\n",
       "  "
      ],
      "text/plain": [
       "   Store  DayOfWeek        Date  Sales  Customers  Open  Promo StateHoliday  \\\n",
       "0      1          5  2015-07-31   5263        555     1      1            0   \n",
       "1      2          5  2015-07-31   6064        625     1      1            0   \n",
       "2      3          5  2015-07-31   8314        821     1      1            0   \n",
       "3      4          5  2015-07-31  13995       1498     1      1            0   \n",
       "4      5          5  2015-07-31   4822        559     1      1            0   \n",
       "\n",
       "   SchoolHoliday  \n",
       "0              1  \n",
       "1              1  \n",
       "2              1  \n",
       "3              1  \n",
       "4              1  "
      ]
     },
     "execution_count": 5,
     "metadata": {},
     "output_type": "execute_result"
    }
   ],
   "source": [
    "rossman_dataset.head()"
   ]
  },
  {
   "cell_type": "code",
   "execution_count": 6,
   "metadata": {
    "colab": {
     "base_uri": "https://localhost:8080/",
     "height": 206
    },
    "executionInfo": {
     "elapsed": 10,
     "status": "ok",
     "timestamp": 1684350612711,
     "user": {
      "displayName": "SHUBHASHIS SINGH",
      "userId": "08258130953267299309"
     },
     "user_tz": -330
    },
    "id": "uZ5GqfDteaPH",
    "outputId": "a5c9845d-6cc6-46c7-9216-098ab0654c63"
   },
   "outputs": [
    {
     "data": {
      "text/html": [
       "\n",
       "  <div id=\"df-43cec6c8-bb7f-4125-9520-f38eb83ede98\">\n",
       "    <div class=\"colab-df-container\">\n",
       "      <div>\n",
       "<style scoped>\n",
       "    .dataframe tbody tr th:only-of-type {\n",
       "        vertical-align: middle;\n",
       "    }\n",
       "\n",
       "    .dataframe tbody tr th {\n",
       "        vertical-align: top;\n",
       "    }\n",
       "\n",
       "    .dataframe thead th {\n",
       "        text-align: right;\n",
       "    }\n",
       "</style>\n",
       "<table border=\"1\" class=\"dataframe\">\n",
       "  <thead>\n",
       "    <tr style=\"text-align: right;\">\n",
       "      <th></th>\n",
       "      <th>Store</th>\n",
       "      <th>DayOfWeek</th>\n",
       "      <th>Date</th>\n",
       "      <th>Sales</th>\n",
       "      <th>Customers</th>\n",
       "      <th>Open</th>\n",
       "      <th>Promo</th>\n",
       "      <th>StateHoliday</th>\n",
       "      <th>SchoolHoliday</th>\n",
       "    </tr>\n",
       "  </thead>\n",
       "  <tbody>\n",
       "    <tr>\n",
       "      <th>1017204</th>\n",
       "      <td>1111</td>\n",
       "      <td>2</td>\n",
       "      <td>2013-01-01</td>\n",
       "      <td>0</td>\n",
       "      <td>0</td>\n",
       "      <td>0</td>\n",
       "      <td>0</td>\n",
       "      <td>a</td>\n",
       "      <td>1</td>\n",
       "    </tr>\n",
       "    <tr>\n",
       "      <th>1017205</th>\n",
       "      <td>1112</td>\n",
       "      <td>2</td>\n",
       "      <td>2013-01-01</td>\n",
       "      <td>0</td>\n",
       "      <td>0</td>\n",
       "      <td>0</td>\n",
       "      <td>0</td>\n",
       "      <td>a</td>\n",
       "      <td>1</td>\n",
       "    </tr>\n",
       "    <tr>\n",
       "      <th>1017206</th>\n",
       "      <td>1113</td>\n",
       "      <td>2</td>\n",
       "      <td>2013-01-01</td>\n",
       "      <td>0</td>\n",
       "      <td>0</td>\n",
       "      <td>0</td>\n",
       "      <td>0</td>\n",
       "      <td>a</td>\n",
       "      <td>1</td>\n",
       "    </tr>\n",
       "    <tr>\n",
       "      <th>1017207</th>\n",
       "      <td>1114</td>\n",
       "      <td>2</td>\n",
       "      <td>2013-01-01</td>\n",
       "      <td>0</td>\n",
       "      <td>0</td>\n",
       "      <td>0</td>\n",
       "      <td>0</td>\n",
       "      <td>a</td>\n",
       "      <td>1</td>\n",
       "    </tr>\n",
       "    <tr>\n",
       "      <th>1017208</th>\n",
       "      <td>1115</td>\n",
       "      <td>2</td>\n",
       "      <td>2013-01-01</td>\n",
       "      <td>0</td>\n",
       "      <td>0</td>\n",
       "      <td>0</td>\n",
       "      <td>0</td>\n",
       "      <td>a</td>\n",
       "      <td>1</td>\n",
       "    </tr>\n",
       "  </tbody>\n",
       "</table>\n",
       "</div>\n",
       "      <button class=\"colab-df-convert\" onclick=\"convertToInteractive('df-43cec6c8-bb7f-4125-9520-f38eb83ede98')\"\n",
       "              title=\"Convert this dataframe to an interactive table.\"\n",
       "              style=\"display:none;\">\n",
       "        \n",
       "  <svg xmlns=\"http://www.w3.org/2000/svg\" height=\"24px\"viewBox=\"0 0 24 24\"\n",
       "       width=\"24px\">\n",
       "    <path d=\"M0 0h24v24H0V0z\" fill=\"none\"/>\n",
       "    <path d=\"M18.56 5.44l.94 2.06.94-2.06 2.06-.94-2.06-.94-.94-2.06-.94 2.06-2.06.94zm-11 1L8.5 8.5l.94-2.06 2.06-.94-2.06-.94L8.5 2.5l-.94 2.06-2.06.94zm10 10l.94 2.06.94-2.06 2.06-.94-2.06-.94-.94-2.06-.94 2.06-2.06.94z\"/><path d=\"M17.41 7.96l-1.37-1.37c-.4-.4-.92-.59-1.43-.59-.52 0-1.04.2-1.43.59L10.3 9.45l-7.72 7.72c-.78.78-.78 2.05 0 2.83L4 21.41c.39.39.9.59 1.41.59.51 0 1.02-.2 1.41-.59l7.78-7.78 2.81-2.81c.8-.78.8-2.07 0-2.86zM5.41 20L4 18.59l7.72-7.72 1.47 1.35L5.41 20z\"/>\n",
       "  </svg>\n",
       "      </button>\n",
       "      \n",
       "  <style>\n",
       "    .colab-df-container {\n",
       "      display:flex;\n",
       "      flex-wrap:wrap;\n",
       "      gap: 12px;\n",
       "    }\n",
       "\n",
       "    .colab-df-convert {\n",
       "      background-color: #E8F0FE;\n",
       "      border: none;\n",
       "      border-radius: 50%;\n",
       "      cursor: pointer;\n",
       "      display: none;\n",
       "      fill: #1967D2;\n",
       "      height: 32px;\n",
       "      padding: 0 0 0 0;\n",
       "      width: 32px;\n",
       "    }\n",
       "\n",
       "    .colab-df-convert:hover {\n",
       "      background-color: #E2EBFA;\n",
       "      box-shadow: 0px 1px 2px rgba(60, 64, 67, 0.3), 0px 1px 3px 1px rgba(60, 64, 67, 0.15);\n",
       "      fill: #174EA6;\n",
       "    }\n",
       "\n",
       "    [theme=dark] .colab-df-convert {\n",
       "      background-color: #3B4455;\n",
       "      fill: #D2E3FC;\n",
       "    }\n",
       "\n",
       "    [theme=dark] .colab-df-convert:hover {\n",
       "      background-color: #434B5C;\n",
       "      box-shadow: 0px 1px 3px 1px rgba(0, 0, 0, 0.15);\n",
       "      filter: drop-shadow(0px 1px 2px rgba(0, 0, 0, 0.3));\n",
       "      fill: #FFFFFF;\n",
       "    }\n",
       "  </style>\n",
       "\n",
       "      <script>\n",
       "        const buttonEl =\n",
       "          document.querySelector('#df-43cec6c8-bb7f-4125-9520-f38eb83ede98 button.colab-df-convert');\n",
       "        buttonEl.style.display =\n",
       "          google.colab.kernel.accessAllowed ? 'block' : 'none';\n",
       "\n",
       "        async function convertToInteractive(key) {\n",
       "          const element = document.querySelector('#df-43cec6c8-bb7f-4125-9520-f38eb83ede98');\n",
       "          const dataTable =\n",
       "            await google.colab.kernel.invokeFunction('convertToInteractive',\n",
       "                                                     [key], {});\n",
       "          if (!dataTable) return;\n",
       "\n",
       "          const docLinkHtml = 'Like what you see? Visit the ' +\n",
       "            '<a target=\"_blank\" href=https://colab.research.google.com/notebooks/data_table.ipynb>data table notebook</a>'\n",
       "            + ' to learn more about interactive tables.';\n",
       "          element.innerHTML = '';\n",
       "          dataTable['output_type'] = 'display_data';\n",
       "          await google.colab.output.renderOutput(dataTable, element);\n",
       "          const docLink = document.createElement('div');\n",
       "          docLink.innerHTML = docLinkHtml;\n",
       "          element.appendChild(docLink);\n",
       "        }\n",
       "      </script>\n",
       "    </div>\n",
       "  </div>\n",
       "  "
      ],
      "text/plain": [
       "         Store  DayOfWeek        Date  Sales  Customers  Open  Promo  \\\n",
       "1017204   1111          2  2013-01-01      0          0     0      0   \n",
       "1017205   1112          2  2013-01-01      0          0     0      0   \n",
       "1017206   1113          2  2013-01-01      0          0     0      0   \n",
       "1017207   1114          2  2013-01-01      0          0     0      0   \n",
       "1017208   1115          2  2013-01-01      0          0     0      0   \n",
       "\n",
       "        StateHoliday  SchoolHoliday  \n",
       "1017204            a              1  \n",
       "1017205            a              1  \n",
       "1017206            a              1  \n",
       "1017207            a              1  \n",
       "1017208            a              1  "
      ]
     },
     "execution_count": 6,
     "metadata": {},
     "output_type": "execute_result"
    }
   ],
   "source": [
    "rossman_dataset.tail()"
   ]
  },
  {
   "cell_type": "markdown",
   "metadata": {
    "id": "S-7KG5fLesbj"
   },
   "source": [
    "#####<font color='blue'>    **Checking Information about Dataset**"
   ]
  },
  {
   "cell_type": "code",
   "execution_count": 7,
   "metadata": {
    "colab": {
     "base_uri": "https://localhost:8080/"
    },
    "executionInfo": {
     "elapsed": 10,
     "status": "ok",
     "timestamp": 1684350612712,
     "user": {
      "displayName": "SHUBHASHIS SINGH",
      "userId": "08258130953267299309"
     },
     "user_tz": -330
    },
    "id": "i-6073GpMEyK",
    "outputId": "ba8a6814-9d90-42cc-8902-404da5f2477b"
   },
   "outputs": [
    {
     "data": {
      "text/plain": [
       "(1017209, 9)"
      ]
     },
     "execution_count": 7,
     "metadata": {},
     "output_type": "execute_result"
    }
   ],
   "source": [
    "rossman_dataset.shape"
   ]
  },
  {
   "cell_type": "code",
   "execution_count": 8,
   "metadata": {
    "colab": {
     "base_uri": "https://localhost:8080/"
    },
    "executionInfo": {
     "elapsed": 828,
     "status": "ok",
     "timestamp": 1684350613533,
     "user": {
      "displayName": "SHUBHASHIS SINGH",
      "userId": "08258130953267299309"
     },
     "user_tz": -330
    },
    "id": "G9n492ssN-U7",
    "outputId": "6893cf3f-a93f-4420-b6a1-e44d10cb8243"
   },
   "outputs": [
    {
     "name": "stdout",
     "output_type": "stream",
     "text": [
      "<class 'pandas.core.frame.DataFrame'>\n",
      "RangeIndex: 1017209 entries, 0 to 1017208\n",
      "Data columns (total 9 columns):\n",
      " #   Column         Non-Null Count    Dtype \n",
      "---  ------         --------------    ----- \n",
      " 0   Store          1017209 non-null  int64 \n",
      " 1   DayOfWeek      1017209 non-null  int64 \n",
      " 2   Date           1017209 non-null  object\n",
      " 3   Sales          1017209 non-null  int64 \n",
      " 4   Customers      1017209 non-null  int64 \n",
      " 5   Open           1017209 non-null  int64 \n",
      " 6   Promo          1017209 non-null  int64 \n",
      " 7   StateHoliday   1017209 non-null  object\n",
      " 8   SchoolHoliday  1017209 non-null  int64 \n",
      "dtypes: int64(7), object(2)\n",
      "memory usage: 69.8+ MB\n"
     ]
    }
   ],
   "source": [
    "# Checking info of data as data types and rows and cols\n",
    "rossman_dataset.info()"
   ]
  },
  {
   "cell_type": "code",
   "execution_count": 9,
   "metadata": {
    "colab": {
     "base_uri": "https://localhost:8080/"
    },
    "executionInfo": {
     "elapsed": 1337,
     "status": "ok",
     "timestamp": 1684350614869,
     "user": {
      "displayName": "SHUBHASHIS SINGH",
      "userId": "08258130953267299309"
     },
     "user_tz": -330
    },
    "id": "1HSOHr3fOe-c",
    "outputId": "1b3a218a-4744-43fe-cec5-686ca6e70745"
   },
   "outputs": [
    {
     "data": {
      "text/plain": [
       "Store            0\n",
       "DayOfWeek        0\n",
       "Date             0\n",
       "Sales            0\n",
       "Customers        0\n",
       "Open             0\n",
       "Promo            0\n",
       "StateHoliday     0\n",
       "SchoolHoliday    0\n",
       "dtype: int64"
      ]
     },
     "execution_count": 9,
     "metadata": {},
     "output_type": "execute_result"
    }
   ],
   "source": [
    " # Checking Null Values\n",
    "rossman_dataset.isnull().sum()"
   ]
  },
  {
   "cell_type": "markdown",
   "metadata": {
    "id": "jywkgMpNf0kH"
   },
   "source": [
    "<font color='Blue'>**Summary Statastics Of Dataset**"
   ]
  },
  {
   "cell_type": "code",
   "execution_count": 10,
   "metadata": {
    "colab": {
     "base_uri": "https://localhost:8080/",
     "height": 300
    },
    "executionInfo": {
     "elapsed": 5,
     "status": "ok",
     "timestamp": 1684350614870,
     "user": {
      "displayName": "SHUBHASHIS SINGH",
      "userId": "08258130953267299309"
     },
     "user_tz": -330
    },
    "id": "jl_NZLW2O3o1",
    "outputId": "2bb0812d-9bf4-436c-9bdc-2900233a44c5"
   },
   "outputs": [
    {
     "data": {
      "text/html": [
       "\n",
       "  <div id=\"df-07d160f2-c757-46cf-a501-291f275dd86f\">\n",
       "    <div class=\"colab-df-container\">\n",
       "      <div>\n",
       "<style scoped>\n",
       "    .dataframe tbody tr th:only-of-type {\n",
       "        vertical-align: middle;\n",
       "    }\n",
       "\n",
       "    .dataframe tbody tr th {\n",
       "        vertical-align: top;\n",
       "    }\n",
       "\n",
       "    .dataframe thead th {\n",
       "        text-align: right;\n",
       "    }\n",
       "</style>\n",
       "<table border=\"1\" class=\"dataframe\">\n",
       "  <thead>\n",
       "    <tr style=\"text-align: right;\">\n",
       "      <th></th>\n",
       "      <th>Store</th>\n",
       "      <th>DayOfWeek</th>\n",
       "      <th>Sales</th>\n",
       "      <th>Customers</th>\n",
       "      <th>Open</th>\n",
       "      <th>Promo</th>\n",
       "      <th>SchoolHoliday</th>\n",
       "    </tr>\n",
       "  </thead>\n",
       "  <tbody>\n",
       "    <tr>\n",
       "      <th>count</th>\n",
       "      <td>1.017209e+06</td>\n",
       "      <td>1.017209e+06</td>\n",
       "      <td>1.017209e+06</td>\n",
       "      <td>1.017209e+06</td>\n",
       "      <td>1.017209e+06</td>\n",
       "      <td>1.017209e+06</td>\n",
       "      <td>1.017209e+06</td>\n",
       "    </tr>\n",
       "    <tr>\n",
       "      <th>mean</th>\n",
       "      <td>5.584297e+02</td>\n",
       "      <td>3.998341e+00</td>\n",
       "      <td>5.773819e+03</td>\n",
       "      <td>6.331459e+02</td>\n",
       "      <td>8.301067e-01</td>\n",
       "      <td>3.815145e-01</td>\n",
       "      <td>1.786467e-01</td>\n",
       "    </tr>\n",
       "    <tr>\n",
       "      <th>std</th>\n",
       "      <td>3.219087e+02</td>\n",
       "      <td>1.997391e+00</td>\n",
       "      <td>3.849926e+03</td>\n",
       "      <td>4.644117e+02</td>\n",
       "      <td>3.755392e-01</td>\n",
       "      <td>4.857586e-01</td>\n",
       "      <td>3.830564e-01</td>\n",
       "    </tr>\n",
       "    <tr>\n",
       "      <th>min</th>\n",
       "      <td>1.000000e+00</td>\n",
       "      <td>1.000000e+00</td>\n",
       "      <td>0.000000e+00</td>\n",
       "      <td>0.000000e+00</td>\n",
       "      <td>0.000000e+00</td>\n",
       "      <td>0.000000e+00</td>\n",
       "      <td>0.000000e+00</td>\n",
       "    </tr>\n",
       "    <tr>\n",
       "      <th>25%</th>\n",
       "      <td>2.800000e+02</td>\n",
       "      <td>2.000000e+00</td>\n",
       "      <td>3.727000e+03</td>\n",
       "      <td>4.050000e+02</td>\n",
       "      <td>1.000000e+00</td>\n",
       "      <td>0.000000e+00</td>\n",
       "      <td>0.000000e+00</td>\n",
       "    </tr>\n",
       "    <tr>\n",
       "      <th>50%</th>\n",
       "      <td>5.580000e+02</td>\n",
       "      <td>4.000000e+00</td>\n",
       "      <td>5.744000e+03</td>\n",
       "      <td>6.090000e+02</td>\n",
       "      <td>1.000000e+00</td>\n",
       "      <td>0.000000e+00</td>\n",
       "      <td>0.000000e+00</td>\n",
       "    </tr>\n",
       "    <tr>\n",
       "      <th>75%</th>\n",
       "      <td>8.380000e+02</td>\n",
       "      <td>6.000000e+00</td>\n",
       "      <td>7.856000e+03</td>\n",
       "      <td>8.370000e+02</td>\n",
       "      <td>1.000000e+00</td>\n",
       "      <td>1.000000e+00</td>\n",
       "      <td>0.000000e+00</td>\n",
       "    </tr>\n",
       "    <tr>\n",
       "      <th>max</th>\n",
       "      <td>1.115000e+03</td>\n",
       "      <td>7.000000e+00</td>\n",
       "      <td>4.155100e+04</td>\n",
       "      <td>7.388000e+03</td>\n",
       "      <td>1.000000e+00</td>\n",
       "      <td>1.000000e+00</td>\n",
       "      <td>1.000000e+00</td>\n",
       "    </tr>\n",
       "  </tbody>\n",
       "</table>\n",
       "</div>\n",
       "      <button class=\"colab-df-convert\" onclick=\"convertToInteractive('df-07d160f2-c757-46cf-a501-291f275dd86f')\"\n",
       "              title=\"Convert this dataframe to an interactive table.\"\n",
       "              style=\"display:none;\">\n",
       "        \n",
       "  <svg xmlns=\"http://www.w3.org/2000/svg\" height=\"24px\"viewBox=\"0 0 24 24\"\n",
       "       width=\"24px\">\n",
       "    <path d=\"M0 0h24v24H0V0z\" fill=\"none\"/>\n",
       "    <path d=\"M18.56 5.44l.94 2.06.94-2.06 2.06-.94-2.06-.94-.94-2.06-.94 2.06-2.06.94zm-11 1L8.5 8.5l.94-2.06 2.06-.94-2.06-.94L8.5 2.5l-.94 2.06-2.06.94zm10 10l.94 2.06.94-2.06 2.06-.94-2.06-.94-.94-2.06-.94 2.06-2.06.94z\"/><path d=\"M17.41 7.96l-1.37-1.37c-.4-.4-.92-.59-1.43-.59-.52 0-1.04.2-1.43.59L10.3 9.45l-7.72 7.72c-.78.78-.78 2.05 0 2.83L4 21.41c.39.39.9.59 1.41.59.51 0 1.02-.2 1.41-.59l7.78-7.78 2.81-2.81c.8-.78.8-2.07 0-2.86zM5.41 20L4 18.59l7.72-7.72 1.47 1.35L5.41 20z\"/>\n",
       "  </svg>\n",
       "      </button>\n",
       "      \n",
       "  <style>\n",
       "    .colab-df-container {\n",
       "      display:flex;\n",
       "      flex-wrap:wrap;\n",
       "      gap: 12px;\n",
       "    }\n",
       "\n",
       "    .colab-df-convert {\n",
       "      background-color: #E8F0FE;\n",
       "      border: none;\n",
       "      border-radius: 50%;\n",
       "      cursor: pointer;\n",
       "      display: none;\n",
       "      fill: #1967D2;\n",
       "      height: 32px;\n",
       "      padding: 0 0 0 0;\n",
       "      width: 32px;\n",
       "    }\n",
       "\n",
       "    .colab-df-convert:hover {\n",
       "      background-color: #E2EBFA;\n",
       "      box-shadow: 0px 1px 2px rgba(60, 64, 67, 0.3), 0px 1px 3px 1px rgba(60, 64, 67, 0.15);\n",
       "      fill: #174EA6;\n",
       "    }\n",
       "\n",
       "    [theme=dark] .colab-df-convert {\n",
       "      background-color: #3B4455;\n",
       "      fill: #D2E3FC;\n",
       "    }\n",
       "\n",
       "    [theme=dark] .colab-df-convert:hover {\n",
       "      background-color: #434B5C;\n",
       "      box-shadow: 0px 1px 3px 1px rgba(0, 0, 0, 0.15);\n",
       "      filter: drop-shadow(0px 1px 2px rgba(0, 0, 0, 0.3));\n",
       "      fill: #FFFFFF;\n",
       "    }\n",
       "  </style>\n",
       "\n",
       "      <script>\n",
       "        const buttonEl =\n",
       "          document.querySelector('#df-07d160f2-c757-46cf-a501-291f275dd86f button.colab-df-convert');\n",
       "        buttonEl.style.display =\n",
       "          google.colab.kernel.accessAllowed ? 'block' : 'none';\n",
       "\n",
       "        async function convertToInteractive(key) {\n",
       "          const element = document.querySelector('#df-07d160f2-c757-46cf-a501-291f275dd86f');\n",
       "          const dataTable =\n",
       "            await google.colab.kernel.invokeFunction('convertToInteractive',\n",
       "                                                     [key], {});\n",
       "          if (!dataTable) return;\n",
       "\n",
       "          const docLinkHtml = 'Like what you see? Visit the ' +\n",
       "            '<a target=\"_blank\" href=https://colab.research.google.com/notebooks/data_table.ipynb>data table notebook</a>'\n",
       "            + ' to learn more about interactive tables.';\n",
       "          element.innerHTML = '';\n",
       "          dataTable['output_type'] = 'display_data';\n",
       "          await google.colab.output.renderOutput(dataTable, element);\n",
       "          const docLink = document.createElement('div');\n",
       "          docLink.innerHTML = docLinkHtml;\n",
       "          element.appendChild(docLink);\n",
       "        }\n",
       "      </script>\n",
       "    </div>\n",
       "  </div>\n",
       "  "
      ],
      "text/plain": [
       "              Store     DayOfWeek         Sales     Customers          Open  \\\n",
       "count  1.017209e+06  1.017209e+06  1.017209e+06  1.017209e+06  1.017209e+06   \n",
       "mean   5.584297e+02  3.998341e+00  5.773819e+03  6.331459e+02  8.301067e-01   \n",
       "std    3.219087e+02  1.997391e+00  3.849926e+03  4.644117e+02  3.755392e-01   \n",
       "min    1.000000e+00  1.000000e+00  0.000000e+00  0.000000e+00  0.000000e+00   \n",
       "25%    2.800000e+02  2.000000e+00  3.727000e+03  4.050000e+02  1.000000e+00   \n",
       "50%    5.580000e+02  4.000000e+00  5.744000e+03  6.090000e+02  1.000000e+00   \n",
       "75%    8.380000e+02  6.000000e+00  7.856000e+03  8.370000e+02  1.000000e+00   \n",
       "max    1.115000e+03  7.000000e+00  4.155100e+04  7.388000e+03  1.000000e+00   \n",
       "\n",
       "              Promo  SchoolHoliday  \n",
       "count  1.017209e+06   1.017209e+06  \n",
       "mean   3.815145e-01   1.786467e-01  \n",
       "std    4.857586e-01   3.830564e-01  \n",
       "min    0.000000e+00   0.000000e+00  \n",
       "25%    0.000000e+00   0.000000e+00  \n",
       "50%    0.000000e+00   0.000000e+00  \n",
       "75%    1.000000e+00   0.000000e+00  \n",
       "max    1.000000e+00   1.000000e+00  "
      ]
     },
     "execution_count": 10,
     "metadata": {},
     "output_type": "execute_result"
    }
   ],
   "source": [
    "# Summary Statastics\n",
    "rossman_dataset.describe()"
   ]
  },
  {
   "cell_type": "code",
   "execution_count": 11,
   "metadata": {
    "colab": {
     "base_uri": "https://localhost:8080/"
    },
    "executionInfo": {
     "elapsed": 8,
     "status": "ok",
     "timestamp": 1684350616045,
     "user": {
      "displayName": "SHUBHASHIS SINGH",
      "userId": "08258130953267299309"
     },
     "user_tz": -330
    },
    "id": "G6FuY2lJNb2t",
    "outputId": "493d2c84-4efd-4e22-fc7d-b22e9db0c409"
   },
   "outputs": [
    {
     "data": {
      "text/plain": [
       "1115"
      ]
     },
     "execution_count": 11,
     "metadata": {},
     "output_type": "execute_result"
    }
   ],
   "source": [
    "# No. Of Stores in the Dataset\n",
    "rossman_dataset.Store.nunique()"
   ]
  },
  {
   "cell_type": "code",
   "execution_count": 12,
   "metadata": {
    "colab": {
     "base_uri": "https://localhost:8080/"
    },
    "executionInfo": {
     "elapsed": 7,
     "status": "ok",
     "timestamp": 1684350616045,
     "user": {
      "displayName": "SHUBHASHIS SINGH",
      "userId": "08258130953267299309"
     },
     "user_tz": -330
    },
    "id": "SmHx0197Xg3x",
    "outputId": "de631f28-0c6c-4ebb-cb0a-a46296a58fdf"
   },
   "outputs": [
    {
     "data": {
      "text/plain": [
       "0    986159\n",
       "a     20260\n",
       "b      6690\n",
       "c      4100\n",
       "Name: StateHoliday, dtype: int64"
      ]
     },
     "execution_count": 12,
     "metadata": {},
     "output_type": "execute_result"
    }
   ],
   "source": [
    "# Value_counts of StateHoliday Column\n",
    "rossman_dataset.StateHoliday.value_counts()"
   ]
  },
  {
   "cell_type": "code",
   "execution_count": 13,
   "metadata": {
    "colab": {
     "base_uri": "https://localhost:8080/"
    },
    "executionInfo": {
     "elapsed": 5,
     "status": "ok",
     "timestamp": 1684350616045,
     "user": {
      "displayName": "SHUBHASHIS SINGH",
      "userId": "08258130953267299309"
     },
     "user_tz": -330
    },
    "id": "1P5KFGCJJHko",
    "outputId": "479339e7-119a-4ca2-fcaa-def08f1b40f7"
   },
   "outputs": [
    {
     "name": "stdout",
     "output_type": "stream",
     "text": [
      "2013-01-01 initial\n",
      "2015-07-31 final\n"
     ]
    }
   ],
   "source": [
    "print(rossman_dataset['Date'].min(),'initial')\n",
    "print(rossman_dataset['Date'].max(),'final')"
   ]
  },
  {
   "cell_type": "markdown",
   "metadata": {
    "id": "rgL5F8IYJL1C"
   },
   "source": [
    "<font color='Blue'> **This tells us we have a data of almost 3 years.**"
   ]
  },
  {
   "cell_type": "code",
   "execution_count": 14,
   "metadata": {
    "executionInfo": {
     "elapsed": 19179,
     "status": "ok",
     "timestamp": 1684350635221,
     "user": {
      "displayName": "SHUBHASHIS SINGH",
      "userId": "08258130953267299309"
     },
     "user_tz": -330
    },
    "id": "gT0VvBh3jRmW"
   },
   "outputs": [],
   "source": [
    "# extract year, month, day and week of year from \"Date\"\n",
    "\n",
    "rossman_dataset['Date']=pd.to_datetime(rossman_dataset['Date'])\n",
    "rossman_dataset['Year'] = rossman_dataset['Date'].apply(lambda x: x.year)\n",
    "rossman_dataset['Month'] = rossman_dataset['Date'].apply(lambda x: x.month)\n",
    "rossman_dataset['Day'] = rossman_dataset['Date'].apply(lambda x: x.day)\n",
    "rossman_dataset['WeekOfYear'] = rossman_dataset['Date'].apply(lambda x: x.weekofyear)"
   ]
  },
  {
   "cell_type": "code",
   "execution_count": 15,
   "metadata": {
    "colab": {
     "base_uri": "https://localhost:8080/",
     "height": 112
    },
    "executionInfo": {
     "elapsed": 836,
     "status": "ok",
     "timestamp": 1684350636052,
     "user": {
      "displayName": "SHUBHASHIS SINGH",
      "userId": "08258130953267299309"
     },
     "user_tz": -330
    },
    "id": "qOG5jyEekfz2",
    "outputId": "c12c9f91-59db-4987-d9e0-49135f4b34aa"
   },
   "outputs": [
    {
     "data": {
      "text/html": [
       "\n",
       "  <div id=\"df-a62b7612-f591-4657-9017-075a1cf32072\">\n",
       "    <div class=\"colab-df-container\">\n",
       "      <div>\n",
       "<style scoped>\n",
       "    .dataframe tbody tr th:only-of-type {\n",
       "        vertical-align: middle;\n",
       "    }\n",
       "\n",
       "    .dataframe tbody tr th {\n",
       "        vertical-align: top;\n",
       "    }\n",
       "\n",
       "    .dataframe thead th {\n",
       "        text-align: right;\n",
       "    }\n",
       "</style>\n",
       "<table border=\"1\" class=\"dataframe\">\n",
       "  <thead>\n",
       "    <tr style=\"text-align: right;\">\n",
       "      <th></th>\n",
       "      <th>Store</th>\n",
       "      <th>DayOfWeek</th>\n",
       "      <th>Date</th>\n",
       "      <th>Sales</th>\n",
       "      <th>Customers</th>\n",
       "      <th>Open</th>\n",
       "      <th>Promo</th>\n",
       "      <th>StateHoliday</th>\n",
       "      <th>SchoolHoliday</th>\n",
       "      <th>Year</th>\n",
       "      <th>Month</th>\n",
       "      <th>Day</th>\n",
       "      <th>WeekOfYear</th>\n",
       "    </tr>\n",
       "  </thead>\n",
       "  <tbody>\n",
       "    <tr>\n",
       "      <th>0</th>\n",
       "      <td>1</td>\n",
       "      <td>5</td>\n",
       "      <td>2015-07-31</td>\n",
       "      <td>5263</td>\n",
       "      <td>555</td>\n",
       "      <td>1</td>\n",
       "      <td>1</td>\n",
       "      <td>0</td>\n",
       "      <td>1</td>\n",
       "      <td>2015</td>\n",
       "      <td>7</td>\n",
       "      <td>31</td>\n",
       "      <td>31</td>\n",
       "    </tr>\n",
       "    <tr>\n",
       "      <th>1</th>\n",
       "      <td>2</td>\n",
       "      <td>5</td>\n",
       "      <td>2015-07-31</td>\n",
       "      <td>6064</td>\n",
       "      <td>625</td>\n",
       "      <td>1</td>\n",
       "      <td>1</td>\n",
       "      <td>0</td>\n",
       "      <td>1</td>\n",
       "      <td>2015</td>\n",
       "      <td>7</td>\n",
       "      <td>31</td>\n",
       "      <td>31</td>\n",
       "    </tr>\n",
       "  </tbody>\n",
       "</table>\n",
       "</div>\n",
       "      <button class=\"colab-df-convert\" onclick=\"convertToInteractive('df-a62b7612-f591-4657-9017-075a1cf32072')\"\n",
       "              title=\"Convert this dataframe to an interactive table.\"\n",
       "              style=\"display:none;\">\n",
       "        \n",
       "  <svg xmlns=\"http://www.w3.org/2000/svg\" height=\"24px\"viewBox=\"0 0 24 24\"\n",
       "       width=\"24px\">\n",
       "    <path d=\"M0 0h24v24H0V0z\" fill=\"none\"/>\n",
       "    <path d=\"M18.56 5.44l.94 2.06.94-2.06 2.06-.94-2.06-.94-.94-2.06-.94 2.06-2.06.94zm-11 1L8.5 8.5l.94-2.06 2.06-.94-2.06-.94L8.5 2.5l-.94 2.06-2.06.94zm10 10l.94 2.06.94-2.06 2.06-.94-2.06-.94-.94-2.06-.94 2.06-2.06.94z\"/><path d=\"M17.41 7.96l-1.37-1.37c-.4-.4-.92-.59-1.43-.59-.52 0-1.04.2-1.43.59L10.3 9.45l-7.72 7.72c-.78.78-.78 2.05 0 2.83L4 21.41c.39.39.9.59 1.41.59.51 0 1.02-.2 1.41-.59l7.78-7.78 2.81-2.81c.8-.78.8-2.07 0-2.86zM5.41 20L4 18.59l7.72-7.72 1.47 1.35L5.41 20z\"/>\n",
       "  </svg>\n",
       "      </button>\n",
       "      \n",
       "  <style>\n",
       "    .colab-df-container {\n",
       "      display:flex;\n",
       "      flex-wrap:wrap;\n",
       "      gap: 12px;\n",
       "    }\n",
       "\n",
       "    .colab-df-convert {\n",
       "      background-color: #E8F0FE;\n",
       "      border: none;\n",
       "      border-radius: 50%;\n",
       "      cursor: pointer;\n",
       "      display: none;\n",
       "      fill: #1967D2;\n",
       "      height: 32px;\n",
       "      padding: 0 0 0 0;\n",
       "      width: 32px;\n",
       "    }\n",
       "\n",
       "    .colab-df-convert:hover {\n",
       "      background-color: #E2EBFA;\n",
       "      box-shadow: 0px 1px 2px rgba(60, 64, 67, 0.3), 0px 1px 3px 1px rgba(60, 64, 67, 0.15);\n",
       "      fill: #174EA6;\n",
       "    }\n",
       "\n",
       "    [theme=dark] .colab-df-convert {\n",
       "      background-color: #3B4455;\n",
       "      fill: #D2E3FC;\n",
       "    }\n",
       "\n",
       "    [theme=dark] .colab-df-convert:hover {\n",
       "      background-color: #434B5C;\n",
       "      box-shadow: 0px 1px 3px 1px rgba(0, 0, 0, 0.15);\n",
       "      filter: drop-shadow(0px 1px 2px rgba(0, 0, 0, 0.3));\n",
       "      fill: #FFFFFF;\n",
       "    }\n",
       "  </style>\n",
       "\n",
       "      <script>\n",
       "        const buttonEl =\n",
       "          document.querySelector('#df-a62b7612-f591-4657-9017-075a1cf32072 button.colab-df-convert');\n",
       "        buttonEl.style.display =\n",
       "          google.colab.kernel.accessAllowed ? 'block' : 'none';\n",
       "\n",
       "        async function convertToInteractive(key) {\n",
       "          const element = document.querySelector('#df-a62b7612-f591-4657-9017-075a1cf32072');\n",
       "          const dataTable =\n",
       "            await google.colab.kernel.invokeFunction('convertToInteractive',\n",
       "                                                     [key], {});\n",
       "          if (!dataTable) return;\n",
       "\n",
       "          const docLinkHtml = 'Like what you see? Visit the ' +\n",
       "            '<a target=\"_blank\" href=https://colab.research.google.com/notebooks/data_table.ipynb>data table notebook</a>'\n",
       "            + ' to learn more about interactive tables.';\n",
       "          element.innerHTML = '';\n",
       "          dataTable['output_type'] = 'display_data';\n",
       "          await google.colab.output.renderOutput(dataTable, element);\n",
       "          const docLink = document.createElement('div');\n",
       "          docLink.innerHTML = docLinkHtml;\n",
       "          element.appendChild(docLink);\n",
       "        }\n",
       "      </script>\n",
       "    </div>\n",
       "  </div>\n",
       "  "
      ],
      "text/plain": [
       "   Store  DayOfWeek       Date  Sales  Customers  Open  Promo StateHoliday  \\\n",
       "0      1          5 2015-07-31   5263        555     1      1            0   \n",
       "1      2          5 2015-07-31   6064        625     1      1            0   \n",
       "\n",
       "   SchoolHoliday  Year  Month  Day  WeekOfYear  \n",
       "0              1  2015      7   31          31  \n",
       "1              1  2015      7   31          31  "
      ]
     },
     "execution_count": 15,
     "metadata": {},
     "output_type": "execute_result"
    }
   ],
   "source": [
    "rossman_dataset.sort_values(by=['Date','Store'],inplace=True,ascending=[False,True])\n",
    "rossman_dataset.head(2)"
   ]
  },
  {
   "cell_type": "markdown",
   "metadata": {
    "id": "HrXAJaO82ta8"
   },
   "source": [
    "##<font color='Blue'> **EDA On Rossman Dataset**"
   ]
  },
  {
   "cell_type": "markdown",
   "metadata": {
    "id": "1NzlEhTngTQs"
   },
   "source": [
    "####<font color='green'> **Heatmap of the Rossman Dataset**"
   ]
  },
  {
   "cell_type": "code",
   "execution_count": 16,
   "metadata": {
    "colab": {
     "base_uri": "https://localhost:8080/",
     "height": 788
    },
    "executionInfo": {
     "elapsed": 3270,
     "status": "ok",
     "timestamp": 1684350639321,
     "user": {
      "displayName": "SHUBHASHIS SINGH",
      "userId": "08258130953267299309"
     },
     "user_tz": -330
    },
    "id": "cmn_ykcZmVE3",
    "outputId": "2ba10b9b-5d60-4d37-e646-cb2c9bc80edd"
   },
   "outputs": [
    {
     "data": {
      "text/plain": [
       "<Axes: >"
      ]
     },
     "execution_count": 16,
     "metadata": {},
     "output_type": "execute_result"
    },
    {
     "data": {
      "image/png": "[encoded data removed]",
      "text/plain": [
       "<Figure size 900x900 with 2 Axes>"
      ]
     },
     "metadata": {},
     "output_type": "display_data"
    }
   ],
   "source": [
    "correlation_map = rossman_dataset[rossman_dataset.columns].corr()\n",
    "obj = np.array(correlation_map)\n",
    "obj[np.tril_indices_from(obj)] = False\n",
    "fig,ax= plt.subplots()\n",
    "fig.set_size_inches(9,9)\n",
    "sns.heatmap(correlation_map, mask=obj,vmax=.7, square=True,annot=True)"
   ]
  },
  {
   "cell_type": "markdown",
   "metadata": {
    "id": "aM0217Iigvn0"
   },
   "source": [
    "<font color='green'>**As we can see that in the graph given below that Stores mainly closed on Sunday**"
   ]
  },
  {
   "cell_type": "code",
   "execution_count": 17,
   "metadata": {
    "colab": {
     "base_uri": "https://localhost:8080/",
     "height": 564
    },
    "executionInfo": {
     "elapsed": 1351,
     "status": "ok",
     "timestamp": 1684350640668,
     "user": {
      "displayName": "SHUBHASHIS SINGH",
      "userId": "08258130953267299309"
     },
     "user_tz": -330
    },
    "id": "UdinNgC2Xguu",
    "outputId": "449b6764-6655-4644-e5ef-36010bffcba5"
   },
   "outputs": [
    {
     "data": {
      "text/plain": [
       "<Axes: xlabel='DayOfWeek', ylabel='count'>"
      ]
     },
     "execution_count": 17,
     "metadata": {},
     "output_type": "execute_result"
    },
    {
     "data": {
      "image/png": "[encoded data removed]",
      "text/plain": [
       "<Figure size 800x600 with 1 Axes>"
      ]
     },
     "metadata": {},
     "output_type": "display_data"
    }
   ],
   "source": [
    "sns.countplot(x='DayOfWeek',hue='Open',data=rossman_dataset)"
   ]
  },
  {
   "cell_type": "markdown",
   "metadata": {
    "id": "JKl9ZAApLOYK"
   },
   "source": [
    "<font color='Blue'>**Sales Are nearly doubled High When Promo is Running**"
   ]
  },
  {
   "cell_type": "code",
   "execution_count": 18,
   "metadata": {
    "colab": {
     "base_uri": "https://localhost:8080/",
     "height": 564
    },
    "executionInfo": {
     "elapsed": 794,
     "status": "ok",
     "timestamp": 1684350641457,
     "user": {
      "displayName": "SHUBHASHIS SINGH",
      "userId": "08258130953267299309"
     },
     "user_tz": -330
    },
    "id": "gR12JRKqLKD-",
    "outputId": "5bc30914-9bc3-468a-ac85-084dd7b19482"
   },
   "outputs": [
    {
     "data": {
      "text/plain": [
       "<Axes: xlabel='Promo', ylabel='Sales'>"
      ]
     },
     "execution_count": 18,
     "metadata": {},
     "output_type": "execute_result"
    },
    {
     "data": {
      "image/png": "[encoded data removed]",
      "text/plain": [
       "<Figure size 800x600 with 1 Axes>"
      ]
     },
     "metadata": {},
     "output_type": "display_data"
    }
   ],
   "source": [
    "#Impact of promo on sales\n",
    "Promo_sales = pd.DataFrame(rossman_dataset.groupby('Promo').agg({'Sales':'mean'}))\n",
    "sns.barplot(x=Promo_sales.index, y = Promo_sales['Sales'])"
   ]
  },
  {
   "cell_type": "markdown",
   "metadata": {
    "id": "NE20Ui50hO0Z"
   },
   "source": [
    "<font color='green'>**As We can see that In the month of November and Specially in December Sales is increasing Rapidly every year on the christmas eve.**"
   ]
  },
  {
   "cell_type": "code",
   "execution_count": 19,
   "metadata": {
    "colab": {
     "base_uri": "https://localhost:8080/",
     "height": 525
    },
    "executionInfo": {
     "elapsed": 30506,
     "status": "ok",
     "timestamp": 1684350671961,
     "user": {
      "displayName": "SHUBHASHIS SINGH",
      "userId": "08258130953267299309"
     },
     "user_tz": -330
    },
    "id": "iM2ChGCojRV_",
    "outputId": "3ee1c656-db7d-4a28-bbad-d4b9a5b4ece8"
   },
   "outputs": [
    {
     "data": {
      "text/plain": [
       "<seaborn.axisgrid.FacetGrid at 0x7f970838f820>"
      ]
     },
     "execution_count": 19,
     "metadata": {},
     "output_type": "execute_result"
    },
    {
     "data": {
      "image/png": "[encoded data removed]",
      "text/plain": [
       "<Figure size 500x500 with 1 Axes>"
      ]
     },
     "metadata": {},
     "output_type": "display_data"
    }
   ],
   "source": [
    "sns.catplot(x=\"Month\" ,y = \"Sales\" , data=rossman_dataset, kind=\"point\")"
   ]
  },
  {
   "cell_type": "code",
   "execution_count": 20,
   "metadata": {
    "colab": {
     "base_uri": "https://localhost:8080/"
    },
    "executionInfo": {
     "elapsed": 10,
     "status": "ok",
     "timestamp": 1684350671962,
     "user": {
      "displayName": "SHUBHASHIS SINGH",
      "userId": "08258130953267299309"
     },
     "user_tz": -330
    },
    "id": "mHxknadkrsb5",
    "outputId": "31489f78-e5da-450c-bce8-689b8244f8b1"
   },
   "outputs": [
    {
     "data": {
      "text/plain": [
       "0    835488\n",
       "1    181721\n",
       "Name: SchoolHoliday, dtype: int64"
      ]
     },
     "execution_count": 20,
     "metadata": {},
     "output_type": "execute_result"
    }
   ],
   "source": [
    "# Value Counts of SchoolHoliday Column\n",
    "rossman_dataset.SchoolHoliday.value_counts()"
   ]
  },
  {
   "cell_type": "markdown",
   "metadata": {
    "id": "IhyjXxKEhfXM"
   },
   "source": [
    "<font color='green'>**As we can see in the Piechart Sales affected by School Holiday is 18% and Mainly Sales aren't afffected by School Holiday**"
   ]
  },
  {
   "cell_type": "code",
   "execution_count": 21,
   "metadata": {
    "colab": {
     "base_uri": "https://localhost:8080/",
     "height": 529
    },
    "executionInfo": {
     "elapsed": 1454,
     "status": "ok",
     "timestamp": 1684350673409,
     "user": {
      "displayName": "SHUBHASHIS SINGH",
      "userId": "08258130953267299309"
     },
     "user_tz": -330
    },
    "id": "9RWq8u1srs4Q",
    "outputId": "a949501d-d920-471a-86b1-18048d23440f"
   },
   "outputs": [
    {
     "data": {
      "image/png": "[encoded data removed]",
      "text/plain": [
       "<Figure size 600x600 with 1 Axes>"
      ]
     },
     "metadata": {},
     "output_type": "display_data"
    }
   ],
   "source": [
    "labels = 'Not-Affected' , 'Affected'\n",
    "sizes = rossman_dataset.SchoolHoliday.value_counts()\n",
    "colors = ['#F75D59', 'lightgreen']\n",
    "explode = (0.1, 0.0)\n",
    "plt.pie(sizes, explode=explode, labels=labels, colors=colors,\n",
    "        autopct='%1.1f%%', shadow=True, startangle=180)\n",
    "plt.axis('equal')\n",
    "plt.title(\"Sales Affected by Schoolholiday or Not ?\",fontsize=20)\n",
    "plt.plot()\n",
    "fig=plt.gcf()\n",
    "fig.set_size_inches(6,6)\n",
    "plt.show()\n"
   ]
  },
  {
   "cell_type": "markdown",
   "metadata": {
    "id": "kIqnxFXN1Zcj"
   },
   "source": [
    "### <font color='Blue'> **Transforming Variable StateHoliday**"
   ]
  },
  {
   "cell_type": "code",
   "execution_count": 22,
   "metadata": {
    "executionInfo": {
     "elapsed": 14,
     "status": "ok",
     "timestamp": 1684350673409,
     "user": {
      "displayName": "SHUBHASHIS SINGH",
      "userId": "08258130953267299309"
     },
     "user_tz": -330
    },
    "id": "c4120SC6rtND"
   },
   "outputs": [],
   "source": [
    "rossman_dataset[\"StateHoliday\"] = rossman_dataset[\"StateHoliday\"].map({0: 0, \"0\": 0, \"a\": 1, \"b\": 1, \"c\": 1})"
   ]
  },
  {
   "cell_type": "code",
   "execution_count": 23,
   "metadata": {
    "colab": {
     "base_uri": "https://localhost:8080/"
    },
    "executionInfo": {
     "elapsed": 14,
     "status": "ok",
     "timestamp": 1684350673410,
     "user": {
      "displayName": "SHUBHASHIS SINGH",
      "userId": "08258130953267299309"
     },
     "user_tz": -330
    },
    "id": "vIO18L2SxLu0",
    "outputId": "d15fdab1-2606-4f20-db4d-e074258a2f77"
   },
   "outputs": [
    {
     "data": {
      "text/plain": [
       "0    986159\n",
       "1     31050\n",
       "Name: StateHoliday, dtype: int64"
      ]
     },
     "execution_count": 23,
     "metadata": {},
     "output_type": "execute_result"
    }
   ],
   "source": [
    "rossman_dataset.StateHoliday.value_counts()"
   ]
  },
  {
   "cell_type": "markdown",
   "metadata": {
    "id": "iLkGPSoJibKO"
   },
   "source": [
    "<font color='green'>**As we can see in the Piechart Sales affected by State Holiday is only 3% means Sales aren't afffected by State Holiday**"
   ]
  },
  {
   "cell_type": "code",
   "execution_count": 24,
   "metadata": {
    "colab": {
     "base_uri": "https://localhost:8080/",
     "height": 529
    },
    "executionInfo": {
     "elapsed": 11,
     "status": "ok",
     "timestamp": 1684350673410,
     "user": {
      "displayName": "SHUBHASHIS SINGH",
      "userId": "08258130953267299309"
     },
     "user_tz": -330
    },
    "id": "SrGHoGL4xLsk",
    "outputId": "9e2c09a9-341f-42d3-8dc8-f7f0679a45b3"
   },
   "outputs": [
    {
     "data": {
      "image/png": "[encoded data removed]",
      "text/plain": [
       "<Figure size 600x600 with 1 Axes>"
      ]
     },
     "metadata": {},
     "output_type": "display_data"
    }
   ],
   "source": [
    "labels = 'Not-Affected' , 'Affected'\n",
    "sizes = rossman_dataset.StateHoliday.value_counts()\n",
    "colors = ['#FFD580','lightblue']\n",
    "explode = (0.1, 0.0)\n",
    "plt.pie(sizes, explode=explode, labels=labels, colors=colors,\n",
    "        autopct='%1.1f%%', shadow=True, startangle=180)\n",
    "plt.axis('equal')\n",
    "plt.title(\"Sales Affected by State holiday or Not ?\",fontsize=20)\n",
    "plt.plot()\n",
    "fig=plt.gcf()\n",
    "fig.set_size_inches(6,6)\n",
    "plt.show()"
   ]
  },
  {
   "cell_type": "markdown",
   "metadata": {
    "id": "mHngnqHUalxd"
   },
   "source": [
    "<font color='green'>**As Sales isn't much affected by State Holiday so i'm removing this column**"
   ]
  },
  {
   "cell_type": "code",
   "execution_count": 25,
   "metadata": {
    "executionInfo": {
     "elapsed": 10,
     "status": "ok",
     "timestamp": 1684350673411,
     "user": {
      "displayName": "SHUBHASHIS SINGH",
      "userId": "08258130953267299309"
     },
     "user_tz": -330
    },
    "id": "3lJhqIddakt7"
   },
   "outputs": [],
   "source": [
    "rossman_dataset.drop('StateHoliday',inplace=True,axis=1)"
   ]
  },
  {
   "cell_type": "markdown",
   "metadata": {
    "id": "OQI_7nUHjGUU"
   },
   "source": [
    "<font color='Blue'>**Histogram Representation of Sales. Here 0 is showing because most of the time store was closed.**"
   ]
  },
  {
   "cell_type": "markdown",
   "metadata": {
    "id": "1oG3iBUg02pz"
   },
   "source": [
    "**Customers, CompetitionDistance, StoreType_d, Promo these four are most important features in our sales prediction.**"
   ]
  },
  {
   "cell_type": "code",
   "execution_count": null,
   "metadata": {
    "id": "h33ABde4wwP3"
   },
   "outputs": [],
   "source": [
    "score_df = pd.DataFrame({'Train_Score':[train_score_1,train_score_2,train_score_3,train_score_4,train_score_5],'Test_Score':[test_score_1,test_score_2,test_score_3,test_score_4,test_score_5]},index=['Linear Regression','Lasso Regression','Decision Tree',\"Decision Tree(hyperparameters)\",'Random Forest Regression'])"
   ]
  },
  {
   "cell_type": "markdown",
   "metadata": {
    "id": "X1Ww6q2v0mLI"
   },
   "source": [
    "# **Conclusion**"
   ]
  },
  {
   "cell_type": "code",
   "execution_count": null,
   "metadata": {
    "colab": {
     "base_uri": "https://localhost:8080/",
     "height": 204
    },
    "id": "Llc3zcxL0r9t",
    "outputId": "14a14bdb-efdc-4520-c441-7f80d2217ebf"
   },
   "outputs": [
    {
     "data": {
      "text/html": [
       "<div>\n",
       "<style scoped>\n",
       "    .dataframe tbody tr th:only-of-type {\n",
       "        vertical-align: middle;\n",
       "    }\n",
       "\n",
       "    .dataframe tbody tr th {\n",
       "        vertical-align: top;\n",
       "    }\n",
       "\n",
       "    .dataframe thead th {\n",
       "        text-align: right;\n",
       "    }\n",
       "</style>\n",
       "<table border=\"1\" class=\"dataframe\">\n",
       "  <thead>\n",
       "    <tr style=\"text-align: right;\">\n",
       "      <th></th>\n",
       "      <th>Train_Score</th>\n",
       "      <th>Test_Score</th>\n",
       "    </tr>\n",
       "  </thead>\n",
       "  <tbody>\n",
       "    <tr>\n",
       "      <th>Linear Regression</th>\n",
       "      <td>0.780750</td>\n",
       "      <td>0.782392</td>\n",
       "    </tr>\n",
       "    <tr>\n",
       "      <th>Lasso Regression</th>\n",
       "      <td>0.780731</td>\n",
       "      <td>0.782369</td>\n",
       "    </tr>\n",
       "    <tr>\n",
       "      <th>Decision Tree</th>\n",
       "      <td>0.999996</td>\n",
       "      <td>0.915698</td>\n",
       "    </tr>\n",
       "    <tr>\n",
       "      <th>Decision Tree(hyperparameters)</th>\n",
       "      <td>0.963506</td>\n",
       "      <td>0.935415</td>\n",
       "    </tr>\n",
       "    <tr>\n",
       "      <th>Random Forest Regression</th>\n",
       "      <td>0.993811</td>\n",
       "      <td>0.956433</td>\n",
       "    </tr>\n",
       "  </tbody>\n",
       "</table>\n",
       "</div>"
      ],
      "text/plain": [
       "                                Train_Score  Test_Score\n",
       "Linear Regression                  0.780750    0.782392\n",
       "Lasso Regression                   0.780731    0.782369\n",
       "Decision Tree                      0.999996    0.915698\n",
       "Decision Tree(hyperparameters)     0.963506    0.935415\n",
       "Random Forest Regression           0.993811    0.956433"
      ]
     },
     "execution_count": 110,
     "metadata": {
      "tags": []
     },
     "output_type": "execute_result"
    }
   ],
   "source": [
    "score_df"
   ]
  },
  {
   "cell_type": "markdown",
   "metadata": {
    "id": "L6RPWqCd0x1d"
   },
   "source": [
    "**Random Forest regressor achieved lowest MAPE as 5.65% showing that it is a highly accurate model. MAE is the average magnitude of error produced by your model, the MAPE is how far the model’s predictions are off from their corresponding outputs on average**![ndIXERr.jpg](data:image/jpeg;base64,/9j/4AAQSkZJRgABAQAAAQABAAD//gA0T3B0aW1pemVkIGJ5IEpQRUdtaW5pIDMuMTQuMTQuNzI2NzA4NjAgMHg4MTMzODhkMgD/2wBDAAgGBgcGBQgHBwcKCggLDRYODQwMDRsUFRAWIBwiISAcHx8jKDMrIyUwJh8fLD0tMDU2OTk5Iis/Qz43QjM4OTf/2wBDAQoKCg0MDRoODho3JB8kNzc3Nzc3Nzc3Nzc3Nzc3Nzc3Nzc3Nzc3Nzc3Nzc3Nzc3Nzc3Nzc3Nzc3Nzc3Nzc3Nzf/wAARCAC5A2kDASIAAhEBAxEB/8QAHAABAAIDAQEBAAAAAAAAAAAAAAcIBAUGAgMB/8QATxAAAQMDAQMFCgkJBgUFAAAAAAECAwQFBhEHEiETMUFRVQgUFRgiYXGBk6IWIzJCUpGhsdEXM0NTVGJyksEkVnOC0uE0OGOy8CY2RHTC/8QAFAEBAAAAAAAAAAAAAAAAAAAAAP/EABQRAQAAAAAAAAAAAAAAAAAAAAD/2gAMAwEAAhEDEQA/AJ/AAAAAAAAAAAAAAAAAAAAAAAAAAAAAAAAAAAAAAAAAAAAAAAAAAAAAAAAAAAAAAAAAAAAAAAAAAAAAAAAAAAAAAAAAAAAAAAAAAAAAAAAAAAAAAAAAAAAAAAAAAAAAAAAAAAAAAAAAAAAAAAAAAAAAAAAAAAAAAAAAAAAAAAAAAAAAAAAAAAAAAAAAAAAAAAAAAAAAAAAAAAAAAAAAAAAAAAAAAAAAAAAAAAAAAAAAAAAAAAAAAAAAAAAAAAHyqamCjp31FTKyKFibznvXREQie7bWLhf7q6xYBb1ranmfWyJ8VH50/FQJdBpsWobtbrDBBe65Ky4aq6WZE0TVehPMhuQAAAAAAAAAAAAAAAAMS4XOhtNI+qr6qKngYmqvkcjUOGlzq9ZNI6mwm0uli13XXKsarIW+dqc7jeVuB2i639bvdeVrXppyUEz1WKLTpRnNr6Tpo4o4Y2xxMaxjU0RrU0REAjn8n2TxqtzjziuW9rxXfaney/u8n0J5z6Q7QLpjszaTOLQ+lTXdbcaVFkgf516W+skQ+c0EVTC6KeNkkbk0cx6aoqegD40FxorpSsqqGqingemrXxORyL9RlHLWvArRYr+t1tKzUiPRUlpopF5J6r07vQp1IAGNcIZqm3VENPLyUz43NZJ9FypwUiGm2m5Bg12bZ89olkgcukVxhbwcnWqdP3gTODDtl1obzQx1tvqY56eRNWvjdqhmAAAAAAAAAAAAAAAAAAAAAAAAAAAAAAAAAAAAAAAAAAAAAAAAAAAAAAAAAAAAAAAAAAAAANfdrqy00vKup553r8mKCNXucBsAQWzbFfLttDorHDQLbqbltyVkrdZXE6JzAACOMjz+uqMnZimJxxTXJfz1RJxjgAkcEZ3Vue4jb33h16ivMEXlz0z6dI1a3p3VOwxTKKDLrHDc6B+rXJo9i87HdKAbwHiWVkMT5ZXIyNibznKvBCMIMxv+e32rt+JSxUNrpV3JbjJHvuc7qY0CUgRbdMiyjZzUUs1/rGXeyyvSOSqbCkUsLl6VROCoSXRVlPcKKGrpZWywStR7HtXVFRQPuCPc5zyqtd9oMYsTI33etcib8iathavSqdKmtyq85Vs7jpLtV3RLrbnyJHUxyQtYsevS1W9HpAlQGJbLjT3a2U9fSu3oZmI9q+ZTLAA4q5X243fLobFYp1iip1SSuqGtR26nQxNeGqnaImiImuvnA/QAAAAAAAAAAAAAAAAAAMC8XihsVsmuFwnbFTxN8pzjLnnipaeSeZ+5FG3ec7oQqftR2gVWc5B4OoHO8GxSbkMbf0rvpAby55FkW2nKUstqV9LZWO1eic259J3WvmJ6xTErXh9ojoLbA1uiJykqp5UjutVNNswwqHDsVhicxO/p2pJO/TjqvR6jtwAAAA47K9oNPiscz5LPc6lsSeXJDAvJp/mXgffAs2ps6sb7jTwOhWOVY3xOXVU6gOqBzecZbFheNTXeSmfPuLutjaumvHrPWFZbTZpjkV2p4nRby7r43Lruu9IHRAAAAAAAAAHxq6ltHSyTvZI9rE1VsbFc5fQic4H2BFt421UVovFPb5rFcIllejeUqY+STRV01RF4knxSNmiZIxdWvajkXzKB7BHWQ7WKPHs5pccnoZHNl3UdPvabqu5uHSSIio5qKnMqagfoAAGqyHHbbk9plt1zp2ywvTgqpxYvWi9Cm1AFXap+S7Dss3IZXz2eZ281jvkSt/o5CwmJZbbMxssdxt0qKippJEq+VG7qVD45xiNJmWN1FtqGpyuiuhk04sf0KVaxfJbvsxzKRj0ejYpFiqYF5ntRfv6gLkgwLLeKO/WmnuVDKklPMxHNVF5vMvnM8AAAAAAAAADl8svmR2dYXWTHm3OJWKsruW3FavQiJ0kU1fdFXCgqpKWrxVIp410fG+ZUVF+oCfgaDC8kTLcVo70kKRLOi6xo7e3VRVTTX1G/AAAADEulypbRbZ6+skSOCFivc5fMQc7ujJ5rgtNQ42kyOfuxfHLvP48OGgE+A4fHcmzG61tOlwxJlFRScXzLUormJ/DodwABwmWZdleP1FRJRYmldb4k1SZs+jlTp8lE1I38ZOq39z4NR72umnLrz/UBYMENU+17MKuJJKfZ7UyMcmqOa92i+6Jttl3tSI++4XWUcWvykVV+9EAmUHHYjtMxzMVSKhqVjqtNVgm8l3q6zsQAAAA4vKclyuzVM7rZizK6hiZvct3wjXLw4+TpqRivdI1aS8kuMx7+u7u8uuuvVzAWCBDzNq2bSMa9mzqrVrk1RUc7in1B21XNmpq7ZzVon8Tv9IEwggOs7oa526dYazE+RlTnbJM5q/8AaSVs4zWozqxS3Sa3tpGNlWNiNk3t7rUDsgAAAAAAAAAAAAAAAAAAAAAAAAABXDIo2s7oym3U01mbr9RY9OZCuWS/8xtJ/is+4sanMgGizK9Jj2JXG5a6Oii8j+LoIm7nykdWzXq+1Plzyybu+vP5zqtu1S6n2bzo39JMxpq+54jRuD1EmnF1Q7iBLdTAyppZYHoiskZu6L6CvGyS7SY7tRumNueve00j91vQjteBYwqrHK6l7oheTXnuG6BLe3PJJLHg60tO/cnrX8lqnOjekytidrZbtm9FIjN2Sp+OevSvE4DukpnLUWWH5qMe4l/Z9EkOA2ViJp/Z2gfLaPa47vgF3pnt10h5Rvm3Tge56yOWvx+rs1Q9XOo370WvQzqJYvzUfj9xa7mWCT/tK8dz1I5mcXOJF8h0PN/mA2e9I/um/jtV3XeTr/DwO/23I1dmVfvaa7zfvMXO8IuDstt2Y2GJJa2ld8dBzLK0ws0jv+0ikpbHQ2eqoaVZN+qmqm7qJ5gN7sZfK/ZnbeV14b27r6Tb5pkb7NQR0lC3lbrWO5KniTn/AIjLpYbfhGIxxOejKSih+UvSaLDrbU3m5S5ddmKk03k0cL/0MXQoG7xLHGY5aEhc7layVeVqJl53vXnN+c/ds1sVmq+9Kms3qnTVYYWLI5E61ROYz7PfbZfqZZ7bVxzMRdHI1eLV6lToA2IAAAAACOtpG0e4YFJTvZZEq6SVNOWWVW6O6jgou6QrJ5WxRYyx73Lo1qTrqoFggQl+WvJ/7hz/AM7v9I/LXlH9w5/53f6QJtBB023LIqaNZJsHmYxOlXu/0m2wLbNLmWTNtE1mbSbzN7fSVXL6NAJbAAAAwL1c4bNZqu4zuRI4Y1euvoAh7bzna0FE3GqCbSeZN6dzV4tb1esjzYjjCX/N2VUzN6nok5V2qcFd0HD5Hep8gv8AWXOocrnzSK5NehOhCx3c+2VKHDJbi5vxlXKqounzQJd5gAAAAGDeKVlbZq2mkajmyQuaqL6CGe52mWL4Q25V8mKZqonrVCcZW70L29bVQgbYm7vLaJlVA5dF3nu09D/9wJmyVba3H6tbrDHLSIxd6ORNUd1IavZ7YGY/isUDYORWZ7p1i+hvLqjfUmh5cnwrvqJxW0UEmruqeVOjzon3nWADzJIyJu9I9rG9bl0Q9GtvlioMitj7fcY1kp3qiuajlTm86AZXf9H+1w+0T8R3/R/tcPtE/E4j8jOF9nye2d+I/IzhfZ8ntnfiB2/f9H+1w+0Q9x1NPM7dinievU16KcL+RnC+z5PbONxjuAY/i1a+rtVK+KZ7d1VWRXcAOnAAEK90RRt8B2uvRuksU+6jiU8WqFqsVtcyrqr6diqvqOD2+U3LbPlk0/NTMcbjDL9DR7LLVXSqqqkKMYxOd7uhAPnmljteQ5NaKLvKOSvZKk8kyJ5UcbV6/Op3zURrUanMiaGixu1S0sctxrvKuFWu/Iv0E6G+o3wAAAAAAK5d0NirKW40mRU8ejaj4qbRPnJzL9X3FjTidrNlS97OrnFu6yRM5dmnPq3j92oEN7CM7dabx8HK6X+x1S6wq5eDJOr1lmigkE0lLURzxOVksbkc1yc6KhdTZ9kzMrw2guW8izKzcmROh6cFA6cAAAAAAAAp5tcr1vG0C6VsUSJTRSpTNkanBzmpx9fOWwyO6R2THLhcpF0bTwvk9aJwK1ZFj74dh9uvM7f7TV3F1TI7pVHoqJ9wEqbAKxKjZykGuqwVD2ejXRf6kqEF9zbWI60Xmj14smZJp6UVP6E6AAqoiarzICO9peWVNIyDGbGvKXq4Lybd3niYvO5eoCL9t2fTXmd9ktjneDaeTdnmbzSSfR9Ridz/AI3HdMpqLpURo+OiZ5GqcN9eY1e1e302MR2nGaZyPlhjWeqk6Xyu6V+0mPYRY/BWAsqns0lrJFlXX6PMgEoAADAvdVHQ2OuqZdNyOF7l19BTfErb8JNoVFTNbqyWp5RyfuoupZDbbfPBGz2piY7SWrckLdOrpIt7niyd95PWXV7dWU0W61VT5ygWWiibDEyNiIjWoiIiHyrKGluFLJTVcDJYZE0cx7dUVDICqiJqvMBTfPLVJge0Wojtcr4kiek0LmrpuovHQtNgt/XJsPt90f8AnJY03/4k5yru1u7Mvm0evfTLyjGOSFm7x1VOHAstsys0tiwG2Uc6KkvJ77kXoVeIHXAADFuVTHRWuqqZVRGRROe5V6kQpviluXJdpVHAjdWS1fKuRPooupZLbLe0s2zutRr92Wp0gZ6+f7CKO53snfeS112e3VtPFuMX953P9gFlY2JHG1iczUREPQMOpulJS19LRSyaVFRvckxE11051A5Hapiltv2FXGeop2JVUsLpopkb5SK1ObUytl9n8CbPbVTK1GyOiSR/8Tuc6qrpIK+jlpKliSQStVj2L0p1HuKJkELIo2o1jERrUToQD2AAAAAAHiSWOFivle1jE53OXREA9gxPClv/AG6m9s0eFLf+3U3tmgZYMTwpb/26m9s0eFLf+3U3tmgZYMTwpb/26m9s0+8M8NQ3ehljkb+44D6AAAAAAAAAACuWS/8AMbSf4rPuLGpzIVvyaRid0XSqrk05Zn3Fj05kA4DbNb3V+zev3G7zot2TRDnO52na/DauHXymVHMS1cKKK5W6oop2o6KaPccnqIS2aRy7PtoNzxm5ryUFX5dNI7g1/UBOyrompVzG6Vbx3QUsjG7zI6qSXVOgsRlV/pcdx2rr6mVrd2P4tq87nacEI22JYdUUvfmU3KJzKmtd8S1/OjNecDV90jb3uorRXtbqxjnRuXq6iTtm9S2q2e2WVi6pyDT1tAxZmXYjWW3ROWVu/C5eh/QcfsRu7obHUYxcPirjb5XN5J/BVaBIGWTpTYldpl5m00n3EF9zjQPlvd3uSp5DYuT+0kXbHf20OIS2ildylyuHxMULOLl610M/ZXhy4dh8NNO1ErJvjZvN5gO4CqiJqvMDjM2vlTvwY5Z3a3Su+cn6GPpcBrqt7s+yrvCJy+ArdJ8e5OaeXoadXk9ySw4rX1sTUTkIfIROjhwPrj9jpses8Fvpm+Sz5Tul7ulT4Zha33nE7lQR/nJYXbv1ARvsHp/CNsul+rPjaypnVHSP4rp1GprK5+Hbe44aNVZSXDd5WJvBqqvTobjYDP3vYLlaJ/i6qmqF343cFQ0N7p35R3QNKyiRXxUW6sz04o3TioE/gAAAANVkdgoslstRba6NHRyt0RVTi3qUp1luMXDB8lfSTI5qxv34ZU+d1KXaOJ2k4HTZrYHxoxra+JN6GTp9AGm2RbQocts7aCtcxLnTt0drprJ5yTdxn0W/UUfoKy64RlDZWb8NZSyaOavDXzFvsJy+jzLH4bhTOTlNNJo+lrukDoXRRuRUdG1UXoVCNbxitFZNpdlvtBA2Lvl7oZmsTRF4cFJNMaqoKatfC+oiR7on78ar83zgZIAAEO90DkK2/FoLVE/SSrf5ei/NJiKq7e7stfnneiO1jpYkYidS9IEVtarnI1OdV0LtYDbkteDWil0RFbA1XenQpjaKfvq8UcH6yZjftL10USQUNPEiaIyNrfsA+4AAAGHcLtb7VGySvrIqdr3I1qyu01XqQDMXmK8YvZLzNtmyWO3osVM574559PkNdovDzk03m+rFIy22vdmuUyeQ1F1bG36bupDMstnitFIrGrvzyu5SaZU4yPXnVQMmgoYLbQxUlMxGRRN0RP6r5zJAAAAAAAAAAAGAy92uSrnpWV8Czwt3pY0emrEA5DbJTOqdmlza1quc1EciJ6TVbJsfuL8YtlTembkVO1VpYFTm/eOoVzsvrN1qaWSJ3FVT/iHf6TqmtaxiNaiI1E0RE6AP0AAAAAAAAx6+nbV2+ppnpq2WNzFT0poZAXigFC7pSrRXWrpV54pnMX1KTV3OmRLFcrhYJX+RKzl4UVfnJwX7NCNNpNG2g2h3uBqaJ3w5yJ6eP9T92a3ZbLtBs9VvK1izJE/zo7yf6gXUARdU1AAAAAABGW2yvemLUljp3L3xdaqOBqJzq3XVf6HnavY46fYxNQwtRGUUcSt06N1UQxbx/wCptvdqt6eVTWanWok6kevN/wDk7bPqLwhgV7ptOL6WTT0omoEHdzhWJHk10pFXjLTo5E/hd/uWUKl7CaxKTabSxqunLRSR+nhr/QthUVEVLTyVE70ZFG1XOc5dEREA0uX5RSYlj89yqVRXNTdij6ZHrzIhyWzbGarfqcyyFN67Vyb7Gv8A0EfQidXA09qhm2q5ut5qmuTG7bJu0sbuaaRPneckDOru2wYRdK5FRqxwuaxE61TRAKp5nXSZZtLrHRqr+VqeQj9CLuoW/sVuZabFQ0EaaNhhaz6kKp7HLMt92kUkkibzKdVneq9ac32lvAAB+OcjGOc5dEamqgVw7ou+cveqCzsdq2CNZHpr0rzHUbB6uyWzEHNkuVMyunlV8kbpERzU6OchnNq+TK9pVY6Nd9JalIY9OpF0LQ2/Z/jrbJR0tRaad744Wtc7c0VV046qBvKi/WiliWWa50rGJxVVmb+JFedbXY6mnlsuHxy11dKnJrNExVazXq852jdluGtl5TwNErvO5VT7zf26wWm0t0oLfBB52RoigQps02MVTLhFfcobo9ruUjp14rvc+rifERGtRETRE4Ih+gAAFVERVXmQCu/dG3vlK+22Zj+ETFmkTzrzH5sh2gYjhuKvp7lVyMrZZVfIjYlXROjj6DgNoFwkyvadVpEquSSoSCLTjw10QtHaMLsNHZ6SnktFI98cTWuc6Fqqq6dIHJ1+3vDqanc+mkqKiRE4MSPd19amu2X3+tz/ADK6ZLVx8nT08aQU0XQxF4r6+Y6zL9nmOXfHK2NLZTwzMic+OWJiNVrkTVOY1+xWxeBcBhc5NJKmR0rlVOjXh9gEjAAAAAAAAGpySw0+S2Oe1VMkkcUqaOdGuiobY1l/vtHjlnmulcrkp4k1crU1UCNvF+x7tCu9qPF+x7tCu9qZn5esM/W1Hsh+XrDP1tR7IDD8X7Hu0K72o8X7Hu0K72pmfl6wz9bUeyH5esM/W1HsgMPxfse7QrvandYfiFHhtrfQUU0ssbn7/wAa45H8vWGfraj2R2eK5bbMwtzq61ue6Frtzy2gb0AAAAAAAHiWaKCNZJpGRsT5z3IifWaq5T0Nwp+SZfG0y6/LhnYimt2h4zV5diM9ooqhkM0j2uR79dEIW8XjJu3KX3gO8qNlGG1V0W5zX2ofW7+/yy1jd70nd2laC1wrE6/99J0LPOxyoQR4vGTduUvvDxeMm7cpfeAsP4Wt3aFN7Zpp7/bMYySFjLjPSPcz83K2ZqPZ59SEPF4ybtyl94eLxk3blL7wEr0mGYnDUxz1d0WuWL822rq0kaz1HXsudsjYjGV1K1qdCTN0Qrz4vGTduUvvDxeMm7cpfeAsP4Wt3aFN7ZpzV7xvFb5WJXSVkVPXJ/8AIp6hI3/WQ74vGTduUvvDxeMm7cpfeAmGz41ilnrO/krIqqt/X1NQkj09Z03hW3doU3tmlePF4ybtyl94eLxk3blL7wFh/Ctu7QpvbNNPb6CwW+81l2bcIpayp+VJLO1Vb+60hDxeMm7cpfeHi8ZN25S+8BYfwtbu0Kb2zR4Vt3aFN7ZpXjxeMm7cpfeHi8ZN25S+8BL9zxjF7hcX3CK4Mo6yRNJJaapaxXp5+PEzcetOL4zHIlvqKZJZV1kmfM1z3r511IT8XjJu3KX3h4vGTduUvvAWRY9kjEfG5r2LxRzV1RT0ajFrVNY8Xt1sqJGyTU8KRve3mVUNuAAAAAAQ1tp2bJeqJ1+tcP8AboW6ysan5xvWRFsqye645mEEFHFLNHO/k5YE6fOWR2g5pT4pZnNa1JrhUfFwQJxV3qOf2WbO/ArZMgu8TFutWvKbunCLzASexyuY1ypoqprovQegAAAA/FXRFXqKUbRKvv3PrxNrrrO5C6sy6QyL1NX7ii+SP38mubtddah6/aoGVhUKz5rZ40TXWpZr9ZeBqaNRPMUn2ef+/rN/9hv3l2E5kA/QAAOKz/Z1S54lF3xXS060zlcnJ/ORTtQBzeP2ywYxSrTU1bE6b5Mk00yOkcqdaqv2G48LW7tCm9s38SBLxsEyO4XuvrYrzTMjnqJJWtXe1RHOVUT7TD8XjJu3KX3gLD+Frd2hTe2b+I8LW7tCm9s38SvHi8ZN25S+8PF4ybtyl94Cw/ha3doU3tm/iPC1u7QpvbN/Erx4vGTduUvvDxeMm7cpfeAsP4Wt3aFN7Zv4jwtbu0Kb2zfxK8eLxk3blL7w8XjJu3KX3gLD+Frd2hTe2aPC1u7QpvbNK8eLxk3blL7w8XjJu3KX3gLDrdbaqKnhCm4/9ZpGtLsxxqLKau9T5AsqTvV6w8u1Gr5jgvF4ybtyl94eLxk3blL7wFhIK+000LIYaykZGxNGtbK1ERD34Wt3aFN7ZpXjxeMm7cpfeHi8ZN25S+8BYfwtbu0Kb2zR4Wt3aFN7ZpXjxeMm7cpfeHi8ZN25S+8BYfwtbu0Kb2zTKY9kjEfG5rmOTVHNXVFK3eLxk3blL7xPuL2qayYvbbXUSNkmpoWxPe3mcvWBtgAAAAFQ9tlOkG0+4qiaco1j/dQ4KkmdTVkE7flRyNenpRdSStvjEbtKlX6UEa/YRg35SekC+ltn76tdJUJ+kha/601Mo02JPV+IWhzudaWLX+VDcgAAAPEsjYonyPXRrGq5V6kQ9nE7V8iZjmz+4ypIjaioYsEKa8Vc7h9iagc7sfidd7tlGWypqtdVrFC7/pt/8Qk+4QJU22pgVNUkic1U9KHN7M7Syy7PLNTNRN50KTPVOlz/ACl+86xU1aqdaAUzwCbwRtTtSOXTk6zkl1867pOee3irzHIosEsUioxVR1xnZzRs+jqQHkVDV0W0u4UlA13fTa93Iozn3ldqmn1lotnOGJitlWWrXlbtVrytVM7iquXjpr5gOlstnpLDaKe20MaRwQsRqIic/nUiXuib53rjVFaY3aPqpd96a/Nb/voTSq6JqpUjbVkTcgz6aGB+/T0bUgZpzK7p+0CQu5ysfJW25XmRnlSvSGNV6k4qTqcjszszbHgFqpkREe+JJX+dXcTrgBzmeXhtiwq6Vyu3XNhc1npXgh0ZB3dEZIyC0UlhikTlZn8rKiLzNTmAjDZFZ3X7aRRukbvshcs8ir/51lwCBe5xszW0lzvDkRXOckLF6k6SegAAAAAAaLM7u2x4hc7grkascLt3+JeCG9IZ7oTIm0eN01ljk+Oqn772ovzU/wBwIn2SWl2QbTKSWRu8yFzp3r505vtUt8nBNCA+5xszUp7neHIm85yQsXqROK/eT4BjXClWut1TSJIsayxuj30+bqmmp+W6hjttup6OL5ETEYnqMlzka1XOVEROdVIz2jbW7Xi1BLSW2eOpur2q1qMXVsfnVQO4o79TV18rbXTtV76RreVkRfJR30fqNqcDsjtc9HhkdfWq51dcHrUzPdzqrub7DvgAAAAAAfKppYKyB0FTCyWJ3zHtPqANR8Fcf7GovYtHwVx/sai9i024A1HwVx/sai9i0fBXH+xqL2LTbgDUfBXH+xqL2LTOo6Cjt8XJUdNFBH9GNu6ZIAAAAAAAAAAAAAAAAAAAAAAAAAAAAAAAAAAAAAABossyiixOyTXGseibqaRs14vd0IhsLtdaSyWyavrZWxwRNVzlVSsl02lWzJ85bcL/ABzSWildrBTR8zl61AknAcYr8pvTs1yZqq5660dO/mY3oXQl/mIci7oTFoYmxx2+qaxqaNammiIe/GIxr9hq/sAmA1eR3iOw2GruMjmpyTFVuvSvQhF0/dF48yPWK21b3dCKqIRtle1G57QbpRWxsSU1vdM1OSauqu49IFnrHVzV9ko6uoRElliR7kRNE4mwMa3QpT22mhRNEZE1v2GSB4lTWJ6dbVKM5RGsWU3Rjk0VKh/D1qXpXihS/afQut+0O7RK3RHTK9PQoGJgEjY88sznc3fLE+0u0nMhRjFpeQyu1S66btQxftLzRrvRMXrRFA9AAAAAAAAAAAAAAAAAAAAAAAAAAAAAAAAAACqW31UXaTJovNTx/cRc35SekkXbhUJPtOrmouvJsYxf5UOCt9OtZcqWmbzyytYnrXQC72KxrDiVpjXnbSxp7qG4PhRQpTUFPAnBI42t+pD7gAABo8lhyOamgbjlVSwTI9eVdUR76K3TgiesifKtkuc5jUsmu+R0kjY/kRtjVGt9CE6ACMsUxbaDj0dFQy5BRT2+FWtVj4VV3Jp0IvoJNAA4C17M6Sl2j3LLKpzJXTOR0EWn5tdERVX6jvl13V059OB+gCN71YtpV0iqKeK/2+ngkVUascKo5Gr0a+gjR/c55BJI6R96pHPcuquVjtVUsmAIyxzGdo1hpaahW/0M1JFo3SSFVcjE6EUkxNd1NefpP0Acxk9Ll9TPGmO3CipodxUfy0W85V8ykQ3rYXluQXKSvueQ001Q/nc5jvqLCgCFMS2ZZ7hjJI7VkNE2GRd50b4lc3Xr0JhtrK1lvhbcJI5KtG/Gvjbo1V9BlAAAAAAA53JqfKajkUxyto6dNF5VZ4t9V9BEF/2I5hktydX3TIaaad3DVWO0ROpCwIAgaw7IM8xlkjLRlUNMyRdXNY12iqbr4F7Vv77x/wAikvgCD7jsv2j3aNWVmZNe1edE3kNDB3Ot6WtilqrxTSRo9Fk8l2qprxLHAD40dMyjo4aaNERkTEY1E6tD7AAAAAAAAAAAAAAAAAAAAAAAAAAAAAAAAAAADzJG2WN0b01a5NFQDEq7xbaBquq6+ni059+REX6jJhqIqinbPFIjonpvNenMqdZXrarZKCp2jWKx22NzJpVas2jlXhr0+oleWnlyJjbRQzvgtFO1Ippo10WZU4brV6utQN03K7A+5pbW3amdWOXRIkkRVVTcFZNpNhtdn2l2K2Y7ByNSrmOk3HLqrt7p9RZiJHNhYjl1cjURfSB7AAAAAAAAAAAAARttPwTIM3SClobpFTULE1fE9q+U4jPxb772xR/yOLKgCtXi333tij/kcPFvvvbFH/I4sqAK1eLffe2KP+Rxs8e7n+7WrIKKvqbpSyQwypI5jWLqpYIAfiJo1E6kP0AAVj7oWzLSZZTXJrV3KmLRV/eQs4Rltwxxb3g8lVEzenoncqmicd3pAqpRSrBXQStXRWSNdr6y9dnqEqrNRTouqSQsdr6UKG8y+cudstuaXXZ3aZkdq5kXJu9LQOxAAAAAAAAAAAAADX1t8tVu/wCMuNPEvU+RNfqM6SNssbo3pq1xBu2zBbXbsZS9W6B0VRFL5ao9V3uIE5Me2RjXscjmuTVFTpQwa++Wu1zww11dFBLMukbZHaK5fMafZ1XrcsBs9S5yucsKNVV83A47bJhCXuKlvUVa6KpplRjI+h+qpwTzgSyioqIqLqigw7VFLBaKOKZdZWQsa9V69DMAAAAAAAAAAAAAY1wqW0duqal66Niic9V9CagU12mVja/aLe52u1Tl3MRf4eH9DJ2T2dbztHtUO7vRxScu/wBDeP36HK3SqWtutXVO55ZnPX1rqTv3OeOK2O4ZDMz5XxEKqnRzuVPsAn0AAAAAAAAAAAAAAAAAAAAAAAAAAAAAAAAAAAAAAAAAAAAAAAAAAAAAAAAAAAAAAAAAAAAAAAA/HORrVcq6Iiaqp+nN59em2DCbpXK7dc2FWs/iXggEFW6auzTbhXT0Sasa50fLfqo04KqecsdS01Naba2GJqMghZ9ic6kW7BMfSjxea9TM/tNfIrkcqcd1DrNqN6dYtn10qo10kfHyTFTrdwAinAoXZxtsueQSpv01G9ysVebX5pYchbYayKgxNq0SNnuFbMr5l6ImfvL/AEJpAAAAAAAAAAAAAAAAAAAAAAAAAHxq6aOspJqaZqOjlYrHIvSin2AFJs8xibE8srLfIxUi31fC7rYvMTX3Ot8SosddZ3v8uCTlGIv0VN9tmwP4U4+tfRx63GkRXN0Ti9vShBGy3JlxLOaaWdVZBK7kJkXhoir/AEUC44PMb2yxtkZ5TXHoAAAAAAAAAAABwW2ODl9md10TVWM3vtO9OZ2hU6VOB3iNU11gd9wGj2LVCS7MqDVfzbnNXzcTaxMXKMjSocira6B/xadEsvX6EIx2OXGruWFLYKHfa906rNNpwjjXn086k50NFBbqKKkp2I2KNuiJ/UDIAAAAAAAAAAAAADhNr97SybOri5HaS1DeQZx46u5/s1O7K1d0JlKV98prDTyaxUib8ui/PXo9SARBbLfUXa509BSsV888iMaidaqXaxLH4cYxihtMCJpDGiPVPnO6V+shvYLgLma5TcYdFVN2la5OjpcT8AAAAAAAAAAAAAAAAAAAAAAAAAAAAAAAAAAAAAAAAAAAAAAAAAAAAAAAAAAAAAAAAAAAAAAAAANfeLJbr/Q95XSlZUU3yuTebAAY1BQUtroYqKihbFTxN3WRt+aeLpaqG80L6K40zJ6Z/wAqN5mADBtdnt9lpO9bdSRU8P0Y2mcAAAAAAAAAAAAAAAAAAAAAAAAAAAAH4qIqKipqilc9s2y6ShqJckskKrTuXeniYnFn7xY08SxRzxOilYj2OTRzXJqigRJsT2hMvtobYrhKnhCmbpGrl4yM/wBiXiBM62T3DH7r8KMLV7XxO5R9OznavTu/gd1s72m0eW06UNdpS3mJN2WGTyd9ev8A2AkEAAAAAAAAAADnsqq45aB9nibytXWsWNkadCLzuXqRDjLtVbS02iubbKaN1mRujOUXSPRelenU7qxWN1u36qsm74uM3GWZU5v3W9SAfLD8ToMPsUVuomf4kn03G/AAAAAAAAAAAAAAaHKcutWI2t9bcqhrf1cXzngYueZhSYZjc9fO9FnVFbDHrxe/oK7bPsGuG0jKJbvc9/wfyqyTyr+kXXXdQ6mjxrItsmRtvN6bJR2KN3xMS8Fc3qRP6k9Wm0UVjtsNBb4GxU8Td1rWoBkUtLDRUsVNTxtjhiajWNamiIiH2AAAAAAAAAAAAAAAAAAAAAAAAAAAAAAAAAAAAAAAAAAAAAAAAAAAAAAAAAAAAAAAAAAAAAAAAAAAAAAAAAAAAAAAAAAAAAAAAAAAAAAAAAAAAAAAHOcNlmzC0ZFOlwpVdQXZi7zKqDyV19B3IA1GM012o7HDTXqpZU1serXTMTTfToX6jbgAAAAAAAAAAAAAAAAAAAAAAAAAY9d3z3jP3nu987nxW99Ij6z7K2VFz8M5dXPu1w+U1j/zUf8AlJJAHiOKOGNscTGsY1NEa1NERD2AAAAAAAAAAAAAAAAAAAAAAAAAAAAAAAAAAAAAAAAAAAAAAAAAAAAAAAAAAAAAAAAAAAAAAAAAAAAAAAAAAAAAAAAAAAAAAAAAAAAAAAAAAAAAAAAAAAAAAAAAAAAAAAAAAAAAAAAAAAAAAAAAAAAAAAAAAAAH/9k=)"
   ]
  },
  {
   "cell_type": "code",
   "execution_count": null,
   "metadata": {
    "id": "n9vOSJLOir3Y"
   },
   "outputs": [],
   "source": []
  }
 ],
 "metadata": {
  "colab": {
   "provenance": [
    {
     "file_id": "https://github.com/samchak18/Capstone_Project_2_Retail_Sales_Prediction/blob/main/Retail_Sales_Prediction_Capstone_Project.ipynb",
     "timestamp": 1684263273385
    }
   ]
  },
  "kernelspec": {
   "display_name": "Python 3 (ipykernel)",
   "language": "python",
   "name": "python3"
  },
  "language_info": {
   "codemirror_mode": {
    "name": "ipython",
    "version": 3
   },
   "file_extension": ".py",
   "mimetype": "text/x-python",
   "name": "python",
   "nbconvert_exporter": "python",
   "pygments_lexer": "ipython3",
   "version": "3.9.7"
  }
 },
 "nbformat": 4,
 "nbformat_minor": 1
}
